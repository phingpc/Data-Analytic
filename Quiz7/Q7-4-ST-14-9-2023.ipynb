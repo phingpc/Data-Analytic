{
 "cells": [
  {
   "cell_type": "markdown",
   "metadata": {},
   "source": [
    "Read CSV Dating.csv"
   ]
  },
  {
   "cell_type": "markdown",
   "metadata": {},
   "source": [
    "# 650710673-จักรพัชร คัชชาพงษ์"
   ]
  },
  {
   "cell_type": "markdown",
   "metadata": {},
   "source": [
    "Converting string labels into numbers (Import LabelEncoder)"
   ]
  },
  {
   "cell_type": "code",
   "execution_count": 4,
   "metadata": {
    "id": "VL_oqQI0m6rr",
    "outputId": "f9285ec1-3d40-47b1-a291-cfb2e0c6d233"
   },
   "outputs": [
    {
     "name": "stdout",
     "output_type": "stream",
     "text": [
      "     outlook  temperature  humidity  windy  Money  Gender Dating\n",
      "0          1            2         0      1      0       1    Yes\n",
      "1          2            0         1      0      1       1    Yes\n",
      "2          0            1         1      0      0       0    Yes\n",
      "3          2            2         0      1      1       0     No\n",
      "4          2            0         0      0      0       0    Yes\n",
      "5          0            2         0      1      0       1    Yes\n",
      "6          2            2         1      1      1       1     No\n",
      "7          0            2         1      1      0       1     No\n",
      "8          1            0         1      0      0       0    Yes\n",
      "9          0            2         0      1      0       1     No\n",
      "10         1            2         0      1      1       1    Yes\n",
      "11         2            0         1      1      1       1    Yes\n",
      "12         1            0         0      0      0       0    Yes\n",
      "13         1            0         1      1      1       0     No\n",
      "14         0            0         1      0      1       0    Yes\n",
      "15         2            0         1      1      1       0     No\n",
      "16         1            1         1      1      1       1     No\n",
      "17         0            0         0      0      1       1    Yes\n",
      "18         2            1         1      0      0       0    Yes\n",
      "19         2            1         0      1      1       0     No\n",
      "20         2            2         0      0      0       1     No\n",
      "21         0            0         1      0      0       1     No\n",
      "22         0            1         1      1      0       1     No\n",
      "23         1            1         0      0      0       1     No\n",
      "24         1            2         1      0      0       0    Yes\n",
      "25         1            1         0      1      1       0     No\n",
      "26         1            2         0      1      0       0    Yes\n",
      "27         0            2         0      0      1       0    Yes\n",
      "28         1            0         1      1      1       1     No\n",
      "29         1            0         1      1      0       1    Yes\n",
      "..       ...          ...       ...    ...    ...     ...    ...\n",
      "970        2            0         1      1      0       1    Yes\n",
      "971        0            2         0      1      1       0    Yes\n",
      "972        1            2         1      1      0       0     No\n",
      "973        0            1         1      0      1       0     No\n",
      "974        0            2         0      1      1       0    Yes\n",
      "975        1            0         1      1      0       0     No\n",
      "976        0            0         0      0      0       0    Yes\n",
      "977        0            2         0      0      1       1    Yes\n",
      "978        1            1         1      1      0       1    Yes\n",
      "979        1            0         1      1      1       1    Yes\n",
      "980        1            0         1      1      1       0     No\n",
      "981        1            2         0      0      0       1     No\n",
      "982        2            1         0      1      1       0     No\n",
      "983        1            1         0      1      1       1    Yes\n",
      "984        1            0         1      0      0       0    Yes\n",
      "985        0            1         0      0      1       0     No\n",
      "986        2            0         1      0      1       0     No\n",
      "987        2            2         1      1      0       0    Yes\n",
      "988        0            0         0      0      0       1     No\n",
      "989        0            1         1      1      0       0    Yes\n",
      "990        1            2         0      1      1       1     No\n",
      "991        1            0         0      0      1       0     No\n",
      "992        1            1         0      0      1       1    Yes\n",
      "993        0            0         0      0      0       1     No\n",
      "994        2            0         1      1      0       1    Yes\n",
      "995        0            1         0      1      1       1    Yes\n",
      "996        2            2         1      1      0       1    Yes\n",
      "997        1            2         0      0      0       1     No\n",
      "998        0            2         1      1      1       0     No\n",
      "999        0            1         1      0      1       1    Yes\n",
      "\n",
      "[1000 rows x 7 columns]\n"
     ]
    }
   ],
   "source": [
    "# encode temp and play columns.\n",
    "# Converting string labels into numbers\n",
    "import pandas as ps\n",
    "import numpy as num\n",
    "\n",
    "df = ps.read_csv('Dating.csv');\n",
    "\n",
    "# Import LabelEncoder\n",
    "from sklearn import preprocessing\n",
    "\n",
    "#creating labelEncoder\n",
    "number = preprocessing.LabelEncoder()\n",
    "df['outlook'] = number.fit_transform(df['outlook'])\n",
    "df['temperature'] = number.fit_transform(df['temperature'])\n",
    "df['humidity'] = number.fit_transform(df['humidity'])\n",
    "df['windy'] = number.fit_transform(df['windy'])\n",
    "df['Money'] = number.fit_transform(df['Money'])\n",
    "df['Gender'] = number.fit_transform(df['Gender'])\n",
    "\n",
    "\n",
    "\n",
    "#play_tennis['play'] = number.fit_transform(play_tennis['play'])\n",
    "\n",
    "print(df)"
   ]
  },
  {
   "cell_type": "markdown",
   "metadata": {
    "id": "hAcBQm-Wm6rs"
   },
   "source": [
    "sklearn library, which can be found in sklearn.naive_bayes:\n",
    "\n",
    "sklearn.naive_bayes.CategoricalNB: \n",
    "    for using Naive Bayes on categorical predictor variables.\n",
    "            \n",
    "sklearn.naive_bayes.GaussianNB: \n",
    "    for Naive Bayes on numerical predictor variables, with the assumption \n",
    "    that these variables follow Gaussian distribution.\n",
    "    \n",
    "sklearn.naive_bayes.MultinomialNB: \n",
    "    the predictor variables represent the counts, a popular application \n",
    "    is in text classification. Fractional counts like tf-idf may also work.\n",
    "    \n",
    "sklearn.naive_bayes.ComplementNB: \n",
    "    A modification of MultinomialNB which is suitable for imbalanced datasets.\n",
    "    \n",
    "sklearn.naive_bayes.BernoulliNB: \n",
    "    assumes the data follows Bernoulli distribution (i.e. possible values of \n",
    "    predictor variables are 0 and 1)."
   ]
  },
  {
   "cell_type": "code",
   "execution_count": 9,
   "metadata": {
    "id": "-Mi-7lqAm6rw",
    "outputId": "29f2e0a6-8e32-455f-b6e3-db4f09cc9903"
   },
   "outputs": [
    {
     "name": "stdout",
     "output_type": "stream",
     "text": [
      "Predicted Value: ['No']\n"
     ]
    }
   ],
   "source": [
    "#Import Library of Naive Bayes\n",
    "from sklearn.naive_bayes import BernoulliNB\n",
    "\n",
    "#Create a Bernoulli Classifier\n",
    "Ber_NB_model = BernoulliNB()\n",
    "\n",
    "# Train the model using the training sets\n",
    "Ber_NB_model.fit(df[['outlook','temperature','humidity','windy','Money','Gender']],df['Dating'])\n",
    "\n",
    "# sunny,mild,normal,weak,Yes,male\n",
    "\n",
    "#Predict Output\n",
    "predicted= Ber_NB_model.predict([[2,2,0,1,1,0]])\n",
    "print(\"Predicted Value:\", predicted)"
   ]
  },
  {
   "cell_type": "code",
   "execution_count": 8,
   "metadata": {},
   "outputs": [
    {
     "name": "stdout",
     "output_type": "stream",
     "text": [
      "Predicted Value: ['Yes']\n"
     ]
    }
   ],
   "source": [
    "#Import Library of Naive Bayes\n",
    "from sklearn.naive_bayes import MultinomialNB\n",
    "\n",
    "#Create a Multinomial Classifier\n",
    "Mul_NB_model = MultinomialNB()\n",
    "\n",
    "# Train the model using the training sets\n",
    "Mul_NB_model.fit(df[['outlook','temperature','humidity','windy','Money','Gender']],df['Dating'])\n",
    "# sunny,mild,high,strong,No,female\n",
    "\n",
    "#Predict Output\n",
    "predicted= Mul_NB_model.predict([[0,1,1,0,1,1]])\n",
    "print(\"Predicted Value:\", predicted)"
   ]
  },
  {
   "cell_type": "code",
   "execution_count": null,
   "metadata": {},
   "outputs": [],
   "source": []
  }
 ],
 "metadata": {
  "colab": {
   "provenance": []
  },
  "kernelspec": {
   "display_name": "Python 3",
   "language": "python",
   "name": "python3"
  },
  "language_info": {
   "codemirror_mode": {
    "name": "ipython",
    "version": 3
   },
   "file_extension": ".py",
   "mimetype": "text/x-python",
   "name": "python",
   "nbconvert_exporter": "python",
   "pygments_lexer": "ipython3",
   "version": "3.6.5"
  }
 },
 "nbformat": 4,
 "nbformat_minor": 1
}
