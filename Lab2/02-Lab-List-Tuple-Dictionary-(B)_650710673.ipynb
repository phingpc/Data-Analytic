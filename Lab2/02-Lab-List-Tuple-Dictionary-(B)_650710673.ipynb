{
 "cells": [
  {
   "cell_type": "markdown",
   "metadata": {},
   "source": [
    "# รหัสนักศึกษา-ชื่อ-นามสกุล (Heading)"
   ]
  },
  {
   "cell_type": "markdown",
   "metadata": {},
   "source": [
    "# 650710673-jakkaphat-katchapong"
   ]
  },
  {
   "cell_type": "markdown",
   "metadata": {},
   "source": [
    "ในการทำแบบฝึกหัดให้เพิ่ม cell ด้านล่างของโจทย์เพื่อเขียน code"
   ]
  },
  {
   "cell_type": "markdown",
   "metadata": {},
   "source": [
    "สร้าง tuple เพื่อเก็บชื่อบุคคล\n",
    "\"Yuji Itadori\", \"Yuta Okkotsu\""
   ]
  },
  {
   "cell_type": "code",
   "execution_count": 9,
   "metadata": {},
   "outputs": [],
   "source": [
    "thistuple = (\"Yuji Itadori\", \"Yuta Okkotsu\")"
   ]
  },
  {
   "cell_type": "markdown",
   "metadata": {},
   "source": [
    "1.แทรกข้อมูล \"Toge Inumaki\" ให้อยู่ระหว่าง\n",
    "\"Yuji Itadori\"และ\"Yuta Okkotsu\"\n",
    "ใน tuple ที่สร้าง"
   ]
  },
  {
   "cell_type": "code",
   "execution_count": 10,
   "metadata": {},
   "outputs": [
    {
     "name": "stdout",
     "output_type": "stream",
     "text": [
      "After : ('Yuji Itadori', 'Toge Inumaki', 'Yuta Okkotsu')\n"
     ]
    }
   ],
   "source": [
    "x = thistuple\n",
    "y = list(x)\n",
    "y.insert(1, \"Toge Inumaki\")\n",
    "x = tuple(y)\n",
    "\n",
    "print(\"After :\" , x)\n",
    "# อันนี้ไม่รู้ว่าอยากให้ข้อถัดไปเห็นความเปลี่ยนแปลงจากข้อก่อนหน้านึเปล่า\n",
    "thistuple = x"
   ]
  },
  {
   "cell_type": "markdown",
   "metadata": {},
   "source": [
    "2.เพิ่มข้อมูล \"Satoru Gojo\" เข้าไปใน tuple"
   ]
  },
  {
   "cell_type": "code",
   "execution_count": 11,
   "metadata": {},
   "outputs": [
    {
     "name": "stdout",
     "output_type": "stream",
     "text": [
      "After  ('Yuji Itadori', 'Toge Inumaki', 'Yuta Okkotsu', 'Satoru Gojo')\n"
     ]
    }
   ],
   "source": [
    "thistuple += (\"Satoru Gojo\",)\n",
    "print (\"After \" , thistuple)"
   ]
  },
  {
   "cell_type": "markdown",
   "metadata": {},
   "source": [
    "3.พิมพ์ข้อมูลที่อยู่ใน tuple ที่สร้างทุกตัวด้วยแบบย้อนกลับ"
   ]
  },
  {
   "cell_type": "code",
   "execution_count": 12,
   "metadata": {},
   "outputs": [
    {
     "name": "stdout",
     "output_type": "stream",
     "text": [
      "('Satoru Gojo', 'Yuta Okkotsu', 'Toge Inumaki', 'Yuji Itadori')\n"
     ]
    }
   ],
   "source": [
    "print(thistuple[::-1])"
   ]
  },
  {
   "cell_type": "markdown",
   "metadata": {},
   "source": [
    "สร้าง Dictionaries จากข้อมูลด้านล่างด้วยรูปแบบ key,value กำหนดให้ \n",
    "name : Yor, \n",
    "    family name : Forger,\n",
    "        year : 1995"
   ]
  },
  {
   "cell_type": "code",
   "execution_count": 13,
   "metadata": {},
   "outputs": [],
   "source": [
    "thisdict = {\n",
    "    \"name\" : \"Yor\",\n",
    "    \"family name\" : \"Forger\",\n",
    "    \"year\" : 1995\n",
    "}"
   ]
  },
  {
   "cell_type": "markdown",
   "metadata": {},
   "source": [
    "4.Update ชื่อ (name) แลนามสกุล (family name) ใน Dictionaries เป็น Damian Desmond"
   ]
  },
  {
   "cell_type": "code",
   "execution_count": 15,
   "metadata": {},
   "outputs": [
    {
     "name": "stdout",
     "output_type": "stream",
     "text": [
      "{'name': 'Damian', 'family name': 'Desmond', 'year': 1995}\n"
     ]
    }
   ],
   "source": [
    "thisdict.update({\"name\" : \"Damian\",\"family name\" : \"Desmond\"})\n",
    "print(thisdict)"
   ]
  },
  {
   "cell_type": "markdown",
   "metadata": {},
   "source": [
    "5.พิมพ์ค่า key ทั้งหมดใน Dictionaries ที่สร้าง"
   ]
  },
  {
   "cell_type": "code",
   "execution_count": 16,
   "metadata": {},
   "outputs": [
    {
     "name": "stdout",
     "output_type": "stream",
     "text": [
      "{'name': 'Damian', 'family name': 'Desmond', 'year': 1995}\n"
     ]
    }
   ],
   "source": [
    "print(thisdict)"
   ]
  },
  {
   "cell_type": "markdown",
   "metadata": {},
   "source": [
    "6.ลบข้อมูล year ใน Dictionaries ที่สร้างด้วย method pop() "
   ]
  },
  {
   "cell_type": "code",
   "execution_count": 18,
   "metadata": {},
   "outputs": [
    {
     "name": "stdout",
     "output_type": "stream",
     "text": [
      "{'name': 'Damian', 'family name': 'Desmond'}\n"
     ]
    }
   ],
   "source": [
    "thisdict.pop(\"year\");\n",
    "print(thisdict)"
   ]
  },
  {
   "cell_type": "code",
   "execution_count": 19,
   "metadata": {},
   "outputs": [],
   "source": [
    "# สร้าง list\n",
    "nestedList = [\"Is\",\"it\",\"too\",\"late\",\"now\",\"to\",\"say\",\"sorry?\", [2, 0,\"Tell\",\"me\",\"if\",\"you\",\"don’t\",\"love\",\"me.\", 1, 5]] "
   ]
  },
  {
   "cell_type": "markdown",
   "metadata": {},
   "source": [
    "7.จงพิมพ์ข้อมูลใน list ให้แสดงข้อความ  Tell me if you don’t love me."
   ]
  },
  {
   "cell_type": "code",
   "execution_count": 49,
   "metadata": {},
   "outputs": [
    {
     "name": "stdout",
     "output_type": "stream",
     "text": [
      "['Tell', 'me', 'if', 'you', 'don’t', 'love']\n",
      "Tell me if you don’t love me. \n"
     ]
    }
   ],
   "source": [
    "z = nestedList[-1]\n",
    "\n",
    "print(z[2:8])\n",
    "# บ้าจี้เอง\n",
    "i = 2;\n",
    "str = \"\";\n",
    "for x in z:\n",
    "    if(2<=i<=8):\n",
    "        str += z[i] +\" \"\n",
    "        i += 1\n",
    "print(str)"
   ]
  },
  {
   "cell_type": "code",
   "execution_count": null,
   "metadata": {},
   "outputs": [],
   "source": []
  }
 ],
 "metadata": {
  "kernelspec": {
   "display_name": "Python 3",
   "language": "python",
   "name": "python3"
  },
  "language_info": {
   "codemirror_mode": {
    "name": "ipython",
    "version": 3
   },
   "file_extension": ".py",
   "mimetype": "text/x-python",
   "name": "python",
   "nbconvert_exporter": "python",
   "pygments_lexer": "ipython3",
   "version": "3.6.5"
  }
 },
 "nbformat": 4,
 "nbformat_minor": 5
}
