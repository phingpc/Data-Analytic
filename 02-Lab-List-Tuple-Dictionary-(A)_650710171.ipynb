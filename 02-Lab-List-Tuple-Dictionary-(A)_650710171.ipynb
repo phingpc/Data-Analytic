{
 "cells": [
  {
   "cell_type": "markdown",
   "metadata": {},
   "source": [
    "# รหัสนักศึกษา-ชื่อ-นามสกุล (Heading)"
   ]
  },
  {
   "cell_type": "markdown",
   "metadata": {},
   "source": [
    "# 650710171-Adsanee-Samsaree"
   ]
  },
  {
   "cell_type": "markdown",
   "metadata": {},
   "source": [
    "ในการทำแบบฝึกหัดให้เพิ่ม cell ด้านล่างของโจทย์เพื่อเขียน code"
   ]
  },
  {
   "cell_type": "markdown",
   "metadata": {},
   "source": [
    "สร้าง list เพื่อเก็บชื่อผลไม้\n",
    "\"apple\", \"banana\", \"cherry\", \"orange\", \"kiwi\", \"melon\""
   ]
  },
  {
   "cell_type": "code",
   "execution_count": 4,
   "metadata": {},
   "outputs": [],
   "source": [
    "thislish = [ \"apple\", \"banana\", \"cherry\", \"orange\", \"kiwi\", \"melon\"]"
   ]
  },
  {
   "cell_type": "markdown",
   "metadata": {},
   "source": [
    "1.พิมพ์ขนาดของ List สร้าง"
   ]
  },
  {
   "cell_type": "code",
   "execution_count": 5,
   "metadata": {},
   "outputs": [
    {
     "name": "stdout",
     "output_type": "stream",
     "text": [
      "6\n"
     ]
    }
   ],
   "source": [
    "print(len(thislish))"
   ]
  },
  {
   "cell_type": "markdown",
   "metadata": {},
   "source": [
    "2.เพิ่มข้อมูล \"mango\" ต่อจาก index(ตำแหน่ง) สุดท้ายเก็บไว้ใน List ที่สร้าง"
   ]
  },
  {
   "cell_type": "code",
   "execution_count": 6,
   "metadata": {},
   "outputs": [],
   "source": [
    "thislish.append(\"mango\")"
   ]
  },
  {
   "cell_type": "markdown",
   "metadata": {},
   "source": [
    "3.พิมพ์ข้อมูลที่อยู่ใน List ที่สร้างทุกตัว"
   ]
  },
  {
   "cell_type": "code",
   "execution_count": 7,
   "metadata": {},
   "outputs": [
    {
     "name": "stdout",
     "output_type": "stream",
     "text": [
      "['apple', 'banana', 'cherry', 'orange', 'kiwi', 'melon', 'mango']\n"
     ]
    }
   ],
   "source": [
    "print(thislish)"
   ]
  },
  {
   "cell_type": "markdown",
   "metadata": {},
   "source": [
    "สร้าง set จากรายชื่อกลุ่มโจรสลัดหมวกฟาง\n",
    "\"Usopp\", \"Sanji\", \"Chopper\""
   ]
  },
  {
   "cell_type": "code",
   "execution_count": 25,
   "metadata": {},
   "outputs": [
    {
     "name": "stdout",
     "output_type": "stream",
     "text": [
      "{'Sanji', 'Chopper', 'Usopp'}\n"
     ]
    }
   ],
   "source": [
    "thisset = {\"Usopp\", \"Sanji\", \"Chopper\"}\n",
    "print(thisset)"
   ]
  },
  {
   "cell_type": "markdown",
   "metadata": {},
   "source": [
    "4.เพิ่ม \"Nami\" และ \"Luffy\" เข้าไปใน set ของกลุ่มโจรสลัดหมวกฟาง"
   ]
  },
  {
   "cell_type": "code",
   "execution_count": 26,
   "metadata": {},
   "outputs": [
    {
     "name": "stdout",
     "output_type": "stream",
     "text": [
      "{'Sanji', 'Nami', 'Chopper', 'Luffy', 'Usopp'}\n"
     ]
    }
   ],
   "source": [
    "thisset.add(\"Nami\")\n",
    "thisset.add(\"Luffy\")\n",
    "print(thisset)"
   ]
  },
  {
   "cell_type": "markdown",
   "metadata": {},
   "source": [
    "5.ลบข้อมูล \"Usopp\" ออกจาก set ของกลุ่มโจรสลัดหมวกฟาง"
   ]
  },
  {
   "cell_type": "code",
   "execution_count": 27,
   "metadata": {},
   "outputs": [
    {
     "name": "stdout",
     "output_type": "stream",
     "text": [
      "{'Sanji', 'Nami', 'Chopper', 'Luffy'}\n"
     ]
    }
   ],
   "source": [
    "thisset.remove(\"Usopp\")\n",
    "print(thisset)"
   ]
  },
  {
   "cell_type": "markdown",
   "metadata": {},
   "source": [
    "สร้าง Dictionaries จากข้อมูลด้านล่างด้วยรูปแบบ key,value กำหนดให้\n",
    "name : Loid,\n",
    "family name : Forger,\n",
    "year : 1964"
   ]
  },
  {
   "cell_type": "code",
   "execution_count": 23,
   "metadata": {},
   "outputs": [],
   "source": [
    "thisdict = {\n",
    "  \"name\": \"Loid\",\n",
    "  \"family name\": \"Forger\",\n",
    "  \"year\": 1964\n",
    "}"
   ]
  },
  {
   "cell_type": "markdown",
   "metadata": {},
   "source": [
    "6.พิมพ์ค่า key และ value ทั้งหมดใน Dictionaries ที่สร้าง"
   ]
  },
  {
   "cell_type": "code",
   "execution_count": 24,
   "metadata": {},
   "outputs": [
    {
     "name": "stdout",
     "output_type": "stream",
     "text": [
      "{'name': 'Loid', 'family name': 'Forger', 'year': 1964}\n"
     ]
    }
   ],
   "source": [
    "print(thisdict)"
   ]
  },
  {
   "cell_type": "markdown",
   "metadata": {},
   "source": [
    "7.เปลี่ยนชื่อ (name) และปี (year) ใน Dictionaries เป็น Anya และ 2016"
   ]
  },
  {
   "cell_type": "code",
   "execution_count": 28,
   "metadata": {},
   "outputs": [
    {
     "name": "stdout",
     "output_type": "stream",
     "text": [
      "{'name': 'Anya', 'family name': 'Forger', 'year': 2016}\n"
     ]
    }
   ],
   "source": [
    "thisdict[\"name\"] = \"Anya\"\n",
    "thisdict[\"year\"] = 2016\n",
    "print(thisdict)"
   ]
  }
 ],
 "metadata": {
  "kernelspec": {
   "display_name": "Python 3",
   "language": "python",
   "name": "python3"
  },
  "language_info": {
   "codemirror_mode": {
    "name": "ipython",
    "version": 3
   },
   "file_extension": ".py",
   "mimetype": "text/x-python",
   "name": "python",
   "nbconvert_exporter": "python",
   "pygments_lexer": "ipython3",
   "version": "3.6.5"
  }
 },
 "nbformat": 4,
 "nbformat_minor": 5
}
