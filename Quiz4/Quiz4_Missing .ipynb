{
 "cells": [
  {
   "cell_type": "markdown",
   "metadata": {
    "id": "r7_Rmofnyf0g"
   },
   "source": [
    "Import Python Libraries"
   ]
  },
  {
   "cell_type": "code",
   "execution_count": 1,
   "metadata": {},
   "outputs": [],
   "source": [
    "import numpy as np\n",
    "import scipy as sp\n",
    "import pandas as pd\n",
    "import matplotlib.pyplot as plt\n",
    "import seaborn as sns"
   ]
  },
  {
   "cell_type": "markdown",
   "metadata": {
    "id": "ZHb9t5z6Jpd9"
   },
   "source": [
    "read your csv"
   ]
  },
  {
   "cell_type": "code",
   "execution_count": 2,
   "metadata": {},
   "outputs": [
    {
     "name": "stderr",
     "output_type": "stream",
     "text": [
      "C:\\ProgramData\\Anaconda3\\lib\\site-packages\\IPython\\core\\interactiveshell.py:2785: DtypeWarning: Columns (25) have mixed types. Specify dtype option on import or set low_memory=False.\n",
      "  interactivity=interactivity, compiler=compiler, result=result)\n"
     ]
    }
   ],
   "source": [
    "data_why = pd.read_csv(\"Airbnb_Open_Data.csv\")"
   ]
  },
  {
   "cell_type": "markdown",
   "metadata": {
    "id": "lLujIJgLyf0u"
   },
   "source": [
    "---\n",
    "### Common Aggregation Functions:\n",
    "\n",
    "|Function|Description\n",
    "|-------|--------\n",
    "|min   | minimum\n",
    "|max   | maximum\n",
    "|count   | number of non-null observations\n",
    "|sum   | sum of values\n",
    "|mean  | arithmetic mean of values\n",
    "|median | median\n",
    "|mad | mean absolute deviation\n",
    "|mode | mode\n",
    "|prod   | product of values\n",
    "|std  | standard deviation\n",
    "|var | unbiased variance\n",
    "\n"
   ]
  },
  {
   "cell_type": "markdown",
   "metadata": {
    "id": "nDwqIx5hyf0x"
   },
   "source": [
    "---\n",
    "### Basic descriptive statistics:\n",
    "\n",
    "|Function|Description\n",
    "|-------|--------\n",
    "|min   | minimum\n",
    "|max   | maximum\n",
    "|mean  | arithmetic mean of values\n",
    "|median | median\n",
    "|mad | mean absolute deviation\n",
    "|mode | mode\n",
    "|std  | standard deviation\n",
    "|var | unbiased variance\n",
    "|sem | standard error of the mean\n",
    "|skew| sample skewness\n",
    "|kurt|kurtosis\n",
    "|quantile| value at %\n"
   ]
  },
  {
   "cell_type": "markdown",
   "metadata": {
    "id": "yoaXlNcRyf0l"
   },
   "source": [
    "### Missing Values"
   ]
  },
  {
   "cell_type": "markdown",
   "metadata": {
    "id": "u-mw8KcuJpeA"
   },
   "source": [
    "ตรวจสอบว่าข้อมูลที่อยู่ในไฟล์ csv มี missing value หรือไม่"
   ]
  },
  {
   "cell_type": "code",
   "execution_count": 3,
   "metadata": {},
   "outputs": [
    {
     "data": {
      "text/plain": [
       "id                                     0\n",
       "NAME                                 250\n",
       "host id                                0\n",
       "host_identity_verified               289\n",
       "host name                            406\n",
       "neighbourhood group                   29\n",
       "neighbourhood                         16\n",
       "lat                                    8\n",
       "long                                   8\n",
       "country                              532\n",
       "country code                         131\n",
       "instant_bookable                     105\n",
       "cancellation_policy                   76\n",
       "room type                              0\n",
       "Construction year                    214\n",
       "price                                247\n",
       "service fee                          273\n",
       "minimum nights                       409\n",
       "number of reviews                    183\n",
       "last review                        15893\n",
       "reviews per month                  15879\n",
       "review rate number                   326\n",
       "calculated host listings count       319\n",
       "availability 365                     448\n",
       "house_rules                        52131\n",
       "license                           102597\n",
       "dtype: int64"
      ]
     },
     "execution_count": 3,
     "metadata": {},
     "output_type": "execute_result"
    }
   ],
   "source": [
    "#data_miss = data_why[data_why.isnull().any(axis=1)]data_miss\n",
    "data_why.isnull().sum()"
   ]
  },
  {
   "cell_type": "markdown",
   "metadata": {
    "id": "VMoBgnTAJpeA"
   },
   "source": [
    "นับจำนวนค่าที่ไม่เป็น missing value"
   ]
  },
  {
   "cell_type": "code",
   "execution_count": 4,
   "metadata": {},
   "outputs": [
    {
     "data": {
      "text/plain": [
       "id                                102599\n",
       "NAME                              102349\n",
       "host id                           102599\n",
       "host_identity_verified            102310\n",
       "host name                         102193\n",
       "neighbourhood group               102570\n",
       "neighbourhood                     102583\n",
       "lat                               102591\n",
       "long                              102591\n",
       "country                           102067\n",
       "country code                      102468\n",
       "instant_bookable                  102494\n",
       "cancellation_policy               102523\n",
       "room type                         102599\n",
       "Construction year                 102385\n",
       "price                             102352\n",
       "service fee                       102326\n",
       "minimum nights                    102190\n",
       "number of reviews                 102416\n",
       "last review                        86706\n",
       "reviews per month                  86720\n",
       "review rate number                102273\n",
       "calculated host listings count    102280\n",
       "availability 365                  102151\n",
       "house_rules                        50468\n",
       "license                                2\n",
       "dtype: int64"
      ]
     },
     "execution_count": 4,
     "metadata": {},
     "output_type": "execute_result"
    }
   ],
   "source": [
    "#data_nomissing = data_why.dropna()\n",
    "#data_nomissing.count()\n",
    "data_why.count()"
   ]
  },
  {
   "cell_type": "markdown",
   "metadata": {
    "id": "p23_ye4-JpeB"
   },
   "source": [
    "เลือกวิธีการที่เหมาะสมสำหรับจัดการกับค่า missing value"
   ]
  },
  {
   "cell_type": "code",
   "execution_count": 22,
   "metadata": {},
   "outputs": [
    {
     "data": {
      "text/plain": [
       "0"
      ]
     },
     "execution_count": 22,
     "metadata": {},
     "output_type": "execute_result"
    }
   ],
   "source": [
    "\n",
    "data_nomiss = data_why['country code'].fillna('US')\n",
    "data_nomiss = data_why['country'].fillna('United States')\n",
    "data_nomiss = data_why['review rate number'].fillna(data_why['review rate number'].mean())\n",
    "data_nomiss = data_why['reviews per month'].fillna(data_why['reviews per month'].mean())\n",
    "data_nomiss.isnull().sum()"
   ]
  },
  {
   "cell_type": "markdown",
   "metadata": {
    "id": "4w4PGb2hJpeB"
   },
   "source": [
    "อธิบายเหตุผลที่เลือวิธีดังกล่าว สั้นๆพอได้ใจครับ"
   ]
  },
  {
   "cell_type": "code",
   "execution_count": null,
   "metadata": {},
   "outputs": [],
   "source": [
    "country code และ country ใช้เป็นการเติมชื่อเมืองและชื่อย่อประเทศเพราะค่าส่วนมากของข้อมูลเป็นประเทศเดียวกัน\n",
    "review ที่ใช้ค่า mean เพราะต้องการเป็นค่าเฉลี่ยของการดูส่วนใหญ่เพื่อไม่ให้ค่าเฉลี่ยของข้อมูลที่เป็น null นั้นเพี้ยน"
   ]
  }
 ],
 "metadata": {
  "colab": {
   "provenance": []
  },
  "kernelspec": {
   "display_name": "Python 3",
   "language": "python",
   "name": "python3"
  },
  "language_info": {
   "codemirror_mode": {
    "name": "ipython",
    "version": 3
   },
   "file_extension": ".py",
   "mimetype": "text/x-python",
   "name": "python",
   "nbconvert_exporter": "python",
   "pygments_lexer": "ipython3",
   "version": "3.6.5"
  }
 },
 "nbformat": 4,
 "nbformat_minor": 1
}
