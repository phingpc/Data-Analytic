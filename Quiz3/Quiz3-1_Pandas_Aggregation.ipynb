{
 "cells": [
  {
   "cell_type": "markdown",
   "metadata": {
    "id": "D0F4CUB4sqU0"
   },
   "source": [
    "# รหัสนักศึกษา-ชื่อ-นามสกุล (Heading)\n"
   ]
  },
  {
   "cell_type": "markdown",
   "metadata": {},
   "source": [
    "# 650710673-จักรพัชร-คัชชาพงษ์"
   ]
  },
  {
   "cell_type": "markdown",
   "metadata": {
    "id": "D2H3Jp85QSQQ"
   },
   "source": [
    "### ในการทำแบบฝึกหัดให้เพิ่ม cell ด้านล่างของโจทย์เพื่อเขียน code"
   ]
  },
  {
   "cell_type": "markdown",
   "metadata": {
    "id": "jSyQzMigQSQS"
   },
   "source": [
    "import Library ที่สำคัญในงาน"
   ]
  },
  {
   "cell_type": "code",
   "execution_count": 4,
   "metadata": {
    "id": "41EntVmSsqU6"
   },
   "outputs": [],
   "source": [
    "#Import Python Libraries\n",
    "import numpy as np\n",
    "# import scipy as sp\n",
    "import pandas as pd\n",
    "# import matplotlib.pyplot as plt\n",
    "# import seaborn as sns"
   ]
  },
  {
   "cell_type": "markdown",
   "metadata": {
    "id": "PzviV44FQSQW"
   },
   "source": [
    "1. Read csv file (\"Pokemon.csv\")"
   ]
  },
  {
   "cell_type": "code",
   "execution_count": 5,
   "metadata": {
    "id": "EGIEyIMlsqU8"
   },
   "outputs": [],
   "source": [
    "#Read csv file\n",
    "\n",
    "#df = pd.read_csv(\"E:/520215/Salaries.csv\")  \n",
    "df = pd.read_csv(\"Pokemon.csv\");"
   ]
  },
  {
   "cell_type": "markdown",
   "metadata": {
    "id": "lacTkrIbQSQY"
   },
   "source": [
    "2. เรียกดูข้อมูล 15 แถวแรกและคำนวณค่าเฉลี่ย"
   ]
  },
  {
   "cell_type": "code",
   "execution_count": 6,
   "metadata": {
    "id": "HMFviqZlQSQZ",
    "outputId": "27d37d42-2d02-4d10-d935-c267f51f86c4"
   },
   "outputs": [
    {
     "data": {
      "text/plain": [
       "#               6.000000\n",
       "Total         444.533333\n",
       "HP             63.466667\n",
       "Attack         71.600000\n",
       "Defense        76.066667\n",
       "Sp. Atk        85.666667\n",
       "Sp. Def        78.266667\n",
       "Speed          69.466667\n",
       "Generation      1.000000\n",
       "Legendary       0.000000\n",
       "dtype: float64"
      ]
     },
     "execution_count": 6,
     "metadata": {},
     "output_type": "execute_result"
    }
   ],
   "source": [
    "df.head(15).mean()"
   ]
  },
  {
   "cell_type": "markdown",
   "metadata": {
    "id": "ao1I4hV9QSQc"
   },
   "source": [
    "3. เลือกข้อมูลตั้งแต่แถวที่ 10-20 ที่มีข้อมูลเพียง 3 คอลัมน์คือ Name, Type 1, Type 2"
   ]
  },
  {
   "cell_type": "code",
   "execution_count": 35,
   "metadata": {
    "id": "NA3QMh9rQSQd",
    "outputId": "da4e8072-2aee-4197-c3ce-807d9b7259fe"
   },
   "outputs": [
    {
     "data": {
      "text/html": [
       "<div>\n",
       "<style scoped>\n",
       "    .dataframe tbody tr th:only-of-type {\n",
       "        vertical-align: middle;\n",
       "    }\n",
       "\n",
       "    .dataframe tbody tr th {\n",
       "        vertical-align: top;\n",
       "    }\n",
       "\n",
       "    .dataframe thead th {\n",
       "        text-align: right;\n",
       "    }\n",
       "</style>\n",
       "<table border=\"1\" class=\"dataframe\">\n",
       "  <thead>\n",
       "    <tr style=\"text-align: right;\">\n",
       "      <th></th>\n",
       "      <th>Name</th>\n",
       "      <th>Type 1</th>\n",
       "      <th>Type 2</th>\n",
       "    </tr>\n",
       "  </thead>\n",
       "  <tbody>\n",
       "    <tr>\n",
       "      <th>10</th>\n",
       "      <td>Wartortle</td>\n",
       "      <td>Water</td>\n",
       "      <td>NaN</td>\n",
       "    </tr>\n",
       "    <tr>\n",
       "      <th>11</th>\n",
       "      <td>Blastoise</td>\n",
       "      <td>Water</td>\n",
       "      <td>NaN</td>\n",
       "    </tr>\n",
       "    <tr>\n",
       "      <th>12</th>\n",
       "      <td>BlastoiseMega Blastoise</td>\n",
       "      <td>Water</td>\n",
       "      <td>NaN</td>\n",
       "    </tr>\n",
       "    <tr>\n",
       "      <th>13</th>\n",
       "      <td>Caterpie</td>\n",
       "      <td>Bug</td>\n",
       "      <td>NaN</td>\n",
       "    </tr>\n",
       "    <tr>\n",
       "      <th>14</th>\n",
       "      <td>Metapod</td>\n",
       "      <td>Bug</td>\n",
       "      <td>NaN</td>\n",
       "    </tr>\n",
       "    <tr>\n",
       "      <th>15</th>\n",
       "      <td>Butterfree</td>\n",
       "      <td>Bug</td>\n",
       "      <td>Flying</td>\n",
       "    </tr>\n",
       "    <tr>\n",
       "      <th>16</th>\n",
       "      <td>Weedle</td>\n",
       "      <td>Bug</td>\n",
       "      <td>Poison</td>\n",
       "    </tr>\n",
       "    <tr>\n",
       "      <th>17</th>\n",
       "      <td>Kakuna</td>\n",
       "      <td>Bug</td>\n",
       "      <td>Poison</td>\n",
       "    </tr>\n",
       "    <tr>\n",
       "      <th>18</th>\n",
       "      <td>Beedrill</td>\n",
       "      <td>Bug</td>\n",
       "      <td>Poison</td>\n",
       "    </tr>\n",
       "    <tr>\n",
       "      <th>19</th>\n",
       "      <td>BeedrillMega Beedrill</td>\n",
       "      <td>Bug</td>\n",
       "      <td>Poison</td>\n",
       "    </tr>\n",
       "    <tr>\n",
       "      <th>20</th>\n",
       "      <td>Pidgey</td>\n",
       "      <td>Normal</td>\n",
       "      <td>Flying</td>\n",
       "    </tr>\n",
       "  </tbody>\n",
       "</table>\n",
       "</div>"
      ],
      "text/plain": [
       "                       Name  Type 1  Type 2\n",
       "10                Wartortle   Water     NaN\n",
       "11                Blastoise   Water     NaN\n",
       "12  BlastoiseMega Blastoise   Water     NaN\n",
       "13                 Caterpie     Bug     NaN\n",
       "14                  Metapod     Bug     NaN\n",
       "15               Butterfree     Bug  Flying\n",
       "16                   Weedle     Bug  Poison\n",
       "17                   Kakuna     Bug  Poison\n",
       "18                 Beedrill     Bug  Poison\n",
       "19    BeedrillMega Beedrill     Bug  Poison\n",
       "20                   Pidgey  Normal  Flying"
      ]
     },
     "execution_count": 35,
     "metadata": {},
     "output_type": "execute_result"
    }
   ],
   "source": [
    "df[['Name','Type 1','Type 2']][10:21]"
   ]
  },
  {
   "cell_type": "markdown",
   "metadata": {
    "id": "kqHoKkTcQSQe"
   },
   "source": [
    "4. แสดงโปเกม่อนธาตุน้ำไม่ว่าจะธาตุหลักหรือรอง (Water) \n",
    "ที่มีค่าพลังรวมมากกว่า 400 ค่าพลังโจมตีมากว่า 50 พลังงานชีวิตมากกว่า 100 และความเร็วมากกว่า 60"
   ]
  },
  {
   "cell_type": "code",
   "execution_count": 34,
   "metadata": {
    "id": "2n3tqglsQSQf",
    "outputId": "f9f47922-7a72-452d-aa95-8f9ac1ce90a0"
   },
   "outputs": [
    {
     "data": {
      "text/html": [
       "<div>\n",
       "<style scoped>\n",
       "    .dataframe tbody tr th:only-of-type {\n",
       "        vertical-align: middle;\n",
       "    }\n",
       "\n",
       "    .dataframe tbody tr th {\n",
       "        vertical-align: top;\n",
       "    }\n",
       "\n",
       "    .dataframe thead th {\n",
       "        text-align: right;\n",
       "    }\n",
       "</style>\n",
       "<table border=\"1\" class=\"dataframe\">\n",
       "  <thead>\n",
       "    <tr style=\"text-align: right;\">\n",
       "      <th></th>\n",
       "      <th>#</th>\n",
       "      <th>Name</th>\n",
       "      <th>Type 1</th>\n",
       "      <th>Type 2</th>\n",
       "      <th>Total</th>\n",
       "      <th>HP</th>\n",
       "      <th>Attack</th>\n",
       "      <th>Defense</th>\n",
       "      <th>Sp. Atk</th>\n",
       "      <th>Sp. Def</th>\n",
       "      <th>Speed</th>\n",
       "      <th>Generation</th>\n",
       "      <th>Legendary</th>\n",
       "    </tr>\n",
       "  </thead>\n",
       "  <tbody>\n",
       "    <tr>\n",
       "      <th>145</th>\n",
       "      <td>134</td>\n",
       "      <td>Vaporeon</td>\n",
       "      <td>Water</td>\n",
       "      <td>NaN</td>\n",
       "      <td>525</td>\n",
       "      <td>130</td>\n",
       "      <td>65</td>\n",
       "      <td>60</td>\n",
       "      <td>110</td>\n",
       "      <td>95</td>\n",
       "      <td>65</td>\n",
       "      <td>1</td>\n",
       "      <td>False</td>\n",
       "    </tr>\n",
       "    <tr>\n",
       "      <th>185</th>\n",
       "      <td>171</td>\n",
       "      <td>Lanturn</td>\n",
       "      <td>Water</td>\n",
       "      <td>Electric</td>\n",
       "      <td>460</td>\n",
       "      <td>125</td>\n",
       "      <td>58</td>\n",
       "      <td>58</td>\n",
       "      <td>76</td>\n",
       "      <td>76</td>\n",
       "      <td>67</td>\n",
       "      <td>2</td>\n",
       "      <td>False</td>\n",
       "    </tr>\n",
       "    <tr>\n",
       "      <th>400</th>\n",
       "      <td>365</td>\n",
       "      <td>Walrein</td>\n",
       "      <td>Ice</td>\n",
       "      <td>Water</td>\n",
       "      <td>530</td>\n",
       "      <td>110</td>\n",
       "      <td>80</td>\n",
       "      <td>90</td>\n",
       "      <td>95</td>\n",
       "      <td>90</td>\n",
       "      <td>65</td>\n",
       "      <td>3</td>\n",
       "      <td>False</td>\n",
       "    </tr>\n",
       "    <tr>\n",
       "      <th>597</th>\n",
       "      <td>537</td>\n",
       "      <td>Seismitoad</td>\n",
       "      <td>Water</td>\n",
       "      <td>Ground</td>\n",
       "      <td>509</td>\n",
       "      <td>105</td>\n",
       "      <td>95</td>\n",
       "      <td>75</td>\n",
       "      <td>85</td>\n",
       "      <td>75</td>\n",
       "      <td>74</td>\n",
       "      <td>5</td>\n",
       "      <td>False</td>\n",
       "    </tr>\n",
       "    <tr>\n",
       "      <th>655</th>\n",
       "      <td>594</td>\n",
       "      <td>Alomomola</td>\n",
       "      <td>Water</td>\n",
       "      <td>NaN</td>\n",
       "      <td>470</td>\n",
       "      <td>165</td>\n",
       "      <td>75</td>\n",
       "      <td>80</td>\n",
       "      <td>40</td>\n",
       "      <td>45</td>\n",
       "      <td>65</td>\n",
       "      <td>5</td>\n",
       "      <td>False</td>\n",
       "    </tr>\n",
       "  </tbody>\n",
       "</table>\n",
       "</div>"
      ],
      "text/plain": [
       "       #        Name Type 1    Type 2  Total   HP  Attack  Defense  Sp. Atk  \\\n",
       "145  134    Vaporeon  Water       NaN    525  130      65       60      110   \n",
       "185  171     Lanturn  Water  Electric    460  125      58       58       76   \n",
       "400  365     Walrein    Ice     Water    530  110      80       90       95   \n",
       "597  537  Seismitoad  Water    Ground    509  105      95       75       85   \n",
       "655  594   Alomomola  Water       NaN    470  165      75       80       40   \n",
       "\n",
       "     Sp. Def  Speed  Generation  Legendary  \n",
       "145       95     65           1      False  \n",
       "185       76     67           2      False  \n",
       "400       90     65           3      False  \n",
       "597       75     74           5      False  \n",
       "655       45     65           5      False  "
      ]
     },
     "execution_count": 34,
     "metadata": {},
     "output_type": "execute_result"
    }
   ],
   "source": [
    "df[ (df['Total'] > 400) & (df['Attack'] > 50) & (df['HP'] > 100) & (df['Speed'] > 60) & (df['Type 1'] == 'Water' ) | (df['Type 2'] == 'Water') & (df['Total'] > 400) & (df['Attack'] > 50) & (df['HP'] > 100) & (df['Speed'] > 60)]\n",
    "#ff = df[ (df['Total'] > 400) & (df['Attack'] > 50) & (df['HP'] > 100) & (df['Speed'] > 60)]\n",
    "#water_pokemon = ff[(ff['Type 1'] == 'Water' ) | (ff['Type 2'] == 'Water')]\n",
    "#water_pokemon.head()"
   ]
  },
  {
   "cell_type": "code",
   "execution_count": null,
   "metadata": {},
   "outputs": [],
   "source": []
  }
 ],
 "metadata": {
  "colab": {
   "collapsed_sections": [],
   "name": "Quiz3-1_Pandas_Aggregation_18_Aug_2022.ipynb",
   "provenance": []
  },
  "kernelspec": {
   "display_name": "Python 3",
   "language": "python",
   "name": "python3"
  },
  "language_info": {
   "codemirror_mode": {
    "name": "ipython",
    "version": 3
   },
   "file_extension": ".py",
   "mimetype": "text/x-python",
   "name": "python",
   "nbconvert_exporter": "python",
   "pygments_lexer": "ipython3",
   "version": "3.6.5"
  }
 },
 "nbformat": 4,
 "nbformat_minor": 1
}
