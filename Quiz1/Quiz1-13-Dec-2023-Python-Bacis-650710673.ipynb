{
 "cells": [
  {
   "cell_type": "markdown",
   "metadata": {},
   "source": [
    "# คำสั่ง\n",
    "- คะแนนควิซจะมีเพียง 2 แบบคือ 10 คะแนน และ 20 คะแนน\n",
    "     - 10 คะแนน เมื่อทำควิซได้ 50% ขึ้นไป (ตามดุลยพินิจของ พี่ Lab)\n",
    "     - 20 คะแนน เมื่อทำควิซได้ 100% (ถูกต้องและสมบูรณ์)\n",
    "        *หมายเหตุ คิดตามความยากไม่ใช่จำนวนข้อ\n",
    "- อนุญาตให้เพื่อนช่วยเหลือกันได้ด้วยวิธีการของปัญญาชน สอนหรืออธิบายต่างๆ \n",
    "     หากพบมีการทุจริตหรือสงสัยว่ามีการทุจริต และผู้ถูกกล่าวหาว่าทุจริตไม่สามารถพิสูจน์ความบริสุทธิ์ได้ ไม่มีคะแนนในการควิซครั้งนั้น และหากพบว่ามีการร่วมือกัน พิจารณาหักคะแนนผู้สมรู้ร่วมคิด\n",
    "- สามารถเรียก พี่ Lab มาตรวจควิซของตนเองได้เมื่อพร้อม หากไม่ได้เรียกพี่ Lab มาตรวจเท่ากับไม่ได้ส่งควิซ\n",
    "- เมื่อเวลาหมดลงหยุดการตรวจและส่งควิซทันที เพราะฉะนั้น **กรุณาบริหารเวลาให้ดี**"
   ]
  },
  {
   "cell_type": "markdown",
   "metadata": {},
   "source": [
    "### ข้อที่ 0-5 นับเป็น 50% รับ 10 คะแนน"
   ]
  },
  {
   "cell_type": "markdown",
   "metadata": {
    "nbgrader": {
     "grade": false,
     "grade_id": "cell-42b96fd90064f955",
     "locked": true,
     "schema_version": 3,
     "solution": false,
     "task": false
    }
   },
   "source": [
    "### 0. สร้างหัวข้อ (Heading) ตามรูปแบบด้านล่าง\n",
    "    - 650710XXX-wednesday addams"
   ]
  },
  {
   "cell_type": "markdown",
   "metadata": {},
   "source": [
    "# 650710673-jakkaphat katchapong"
   ]
  },
  {
   "cell_type": "markdown",
   "metadata": {
    "nbgrader": {
     "grade": false,
     "grade_id": "cell-5a0a5fce51c6f5d6",
     "locked": true,
     "schema_version": 3,
     "solution": false,
     "task": false
    }
   },
   "source": [
    "### 1. รับข้อความทางหน้าจอและพิมพ์ออกมา 3 ครั้งใน 1 บรรทัด\n",
    "    - input >> 5\n",
    "    - output >> 555"
   ]
  },
  {
   "cell_type": "code",
   "execution_count": 1,
   "metadata": {},
   "outputs": [
    {
     "name": "stdout",
     "output_type": "stream",
     "text": [
      "ผิง ผิง ผิง \n"
     ]
    }
   ],
   "source": [
    "print(\"ผิง \"*3)"
   ]
  },
  {
   "cell_type": "markdown",
   "metadata": {
    "nbgrader": {
     "grade": false,
     "grade_id": "cell-798e6b526c176fe2",
     "locked": true,
     "schema_version": 3,
     "solution": false,
     "task": false
    }
   },
   "source": [
    "### 2. รับค่าเป็นจำนวนจริง 3 จำนวน และพิมพ์ค่าเฉลี่ยของจำนวนทั้งสาม"
   ]
  },
  {
   "cell_type": "code",
   "execution_count": 2,
   "metadata": {},
   "outputs": [
    {
     "name": "stdout",
     "output_type": "stream",
     "text": [
      "4.0\n"
     ]
    }
   ],
   "source": [
    "x = 3\n",
    "y = 4\n",
    "z = 5\n",
    "print((x+y+z)/3)"
   ]
  },
  {
   "cell_type": "markdown",
   "metadata": {
    "nbgrader": {
     "grade": false,
     "grade_id": "cell-19676faa0ee93fbf",
     "locked": true,
     "schema_version": 3,
     "solution": false,
     "task": false
    }
   },
   "source": [
    "### 3. จงตรวจสอบชนิดของข้อมูลในตัวแปร text4 "
   ]
  },
  {
   "cell_type": "code",
   "execution_count": 4,
   "metadata": {
    "nbgrader": {
     "grade": false,
     "grade_id": "cell-e549f0a936481ccc",
     "locked": true,
     "schema_version": 3,
     "solution": false,
     "task": false
    }
   },
   "outputs": [
    {
     "data": {
      "text/plain": [
       "str"
      ]
     },
     "execution_count": 4,
     "metadata": {},
     "output_type": "execute_result"
    }
   ],
   "source": [
    "text4 = \"His happiness May not be us\"\n",
    "type(text4)"
   ]
  },
  {
   "cell_type": "markdown",
   "metadata": {
    "nbgrader": {
     "grade": false,
     "grade_id": "cell-528aabcb2087eb90",
     "locked": true,
     "schema_version": 3,
     "solution": false,
     "task": false
    }
   },
   "source": [
    "### 4. รับค่าฐานและสูงของสามเหลี่ยม เพื่อหาพื้นที่สามเหลี่ยม พิมพ์พื้นที่สามเหลี่ยมออกมา หากพื้นที่สามเหลี่ยมมีพื้นที่\n",
    "    - น้อยกว่า 10 ตารางเซนติเมตร พิมพ์คำว่า Song Liam\n",
    "    - มากกว่า 10 แต่น้อยกว่า 20 ตารางเซนติเมตร พิมพ์คำว่า Liam Chat\n",
    "    - มากกว่า 20 แต่น้อยกว่า 30 ตารางเซนติเมตร พิมพ์คำว่า Liam Chip Hai\n",
    "    - มากกว่า 30 ตารางเซนติเมตร พิมพ์คำว่า Liam Thuk Dok,Laeo Bok Phuean Rak\n",
    "    \n",
    "  **สูตรการหาพื้นที่สามเหลี่ยม = 1/2 x ฐาน x สูง**\n",
    "    \n",
    "*ค่าทั้ง 2 สามารถกำหนดขึ้นมาเองได้*\n",
    "\n"
   ]
  },
  {
   "cell_type": "code",
   "execution_count": 32,
   "metadata": {},
   "outputs": [
    {
     "name": "stdout",
     "output_type": "stream",
     "text": [
      "input base : 9\n",
      "input hight : 9\n",
      "9.0\n",
      "9.0\n",
      "40.5\n",
      "Liam Thuk Dok,Laeo Bok Phuean Rak\n"
     ]
    }
   ],
   "source": [
    "base = float(input(\"input base : \"))\n",
    "hight = float(input(\"input hight : \"))\n",
    "print(base)\n",
    "print(hight)\n",
    "ans = base*hight*1/2\n",
    "print(ans)\n",
    "if ans < 10.0:\n",
    "    print(\"Song Liam\")\n",
    "elif 10.0 <= ans < 20.0:\n",
    "    print(\"Liam Chat\")\n",
    "elif 20.0 <= ans < 30.0:\n",
    "    print(\"Liam Chip Hai\")\n",
    "else :\n",
    "    print(\"Liam Thuk Dok,Laeo Bok Phuean Rak\")"
   ]
  },
  {
   "cell_type": "markdown",
   "metadata": {
    "nbgrader": {
     "grade": false,
     "grade_id": "cell-af70732745590d95",
     "locked": true,
     "schema_version": 3,
     "solution": false,
     "task": false
    }
   },
   "source": [
    "### 5. พิมพ์ค่าที่ใน thislist ออกมาตั้งแต่ Index 6 เป็นต้นไป"
   ]
  },
  {
   "cell_type": "code",
   "execution_count": 5,
   "metadata": {
    "nbgrader": {
     "grade": false,
     "grade_id": "cell-5fd545b27199c83c",
     "locked": true,
     "schema_version": 3,
     "solution": false,
     "task": false
    }
   },
   "outputs": [
    {
     "name": "stdout",
     "output_type": "stream",
     "text": [
      "good\n",
      "reason\n",
      "to\n",
      "go\n"
     ]
    }
   ],
   "source": [
    "thislist = [\"No\", \"reason\",\"to\",\"stay\",\"Is\",\"a\",\"good\",\"reason\",\"to\",\"go\"]\n",
    "for i in range(6,10):\n",
    "    print(thislist[i])"
   ]
  },
  {
   "cell_type": "markdown",
   "metadata": {},
   "source": [
    "### 6.จงเขียนโปรแกรมหาผลลัพธ์จากตัวแปร text"
   ]
  },
  {
   "cell_type": "code",
   "execution_count": 6,
   "metadata": {},
   "outputs": [
    {
     "data": {
      "text/plain": [
       "148799"
      ]
     },
     "execution_count": 6,
     "metadata": {},
     "output_type": "execute_result"
    }
   ],
   "source": [
    "\n",
    "x = 500\n",
    "y = 121\n",
    "z = 44\n",
    "setNum = [1,2,3,4,5,6,7,8,9,9,8,7,6,5,4,3,2,1]\n",
    "\n",
    "text = \"int(y*(x+5+5*5-5)+(z**3)+sum(setNum))\"\n",
    "eval(text)"
   ]
  },
  {
   "cell_type": "markdown",
   "metadata": {},
   "source": [
    " ### 7. จงเขียนโปรงแกรมเรียงจัดเรียงตัวอักษรใหม่ \n",
    "โดยนับตัวอักษรจากตำแหน่งแรกของลิสต์ star ต่อด้วยตัวอักษรจากตำแหน่งสุดท้ายของลิสต์ wars \n",
    "และขยับตำแหน่งของลิสต์ star ขึ้น 1 ตำแหน่ง ในขณะเดียวกับก็ลดตำแหน่งของลิสต์ war ลง 1 ตำแหน่ง\n",
    "แล้วจึงจัดเรียงต่อกันทำเช่นนี้จนครบทุกตำแหน่งของลิตส์ทั้งสอง\n",
    "\n",
    "ตัวอย่าง\n",
    "```python\n",
    "     star = ['s','t','a','r']\n",
    "     wars = ['w','a','r','s']\n",
    "\n",
    "output\n",
    "     sstraarw\n",
    "```"
   ]
  },
  {
   "cell_type": "code",
   "execution_count": 25,
   "metadata": {},
   "outputs": [],
   "source": [
    "star = ['D', ',', 'o', ' ', 'o', 'n', 't', ' ', 'h', 'r', ' ', 's', 'n', ' ', 't', 'y', '.']"
   ]
  },
  {
   "cell_type": "code",
   "execution_count": 26,
   "metadata": {},
   "outputs": [],
   "source": [
    "wars = ['”', 'r', '“', 'o', ' ', 'i', 'e', 'e', 'T', '.', 'o', ' ', 'd', 'r', ' ', 'o']"
   ]
  },
  {
   "cell_type": "code",
   "execution_count": 43,
   "metadata": {},
   "outputs": [
    {
     "name": "stdout",
     "output_type": "stream",
     "text": [
      "D\n",
      "o\n",
      ",\n",
      " \n",
      "o\n",
      "r\n",
      " \n",
      "d\n",
      "o\n",
      " \n",
      "n\n",
      "o\n",
      "t\n",
      ".\n",
      " \n",
      "T\n",
      "h\n",
      "e\n",
      "r\n",
      "e\n",
      " \n",
      "i\n",
      "s\n",
      " \n",
      "n\n",
      "o\n",
      " \n",
      "“\n",
      "t\n",
      "r\n",
      "y\n",
      "”\n",
      "Do, or do not. There is no “try”.\n"
     ]
    }
   ],
   "source": [
    "star = ['D', ',', 'o', ' ', 'o', 'n', 't', ' ', 'h', 'r', ' ', 's', 'n', ' ', 't', 'y', '.']\n",
    "wars = ['”', 'r', '“', 'o', ' ', 'i', 'e', 'e', 'T', '.', 'o', ' ', 'd', 'r', ' ', 'o']\n",
    "length = len(wars) - 1\n",
    "String = \"\"\n",
    "for i in range (len(star)):\n",
    "    String += star[i]\n",
    "    if length < 0:\n",
    "        break\n",
    "    String += wars[length]\n",
    "    print(star[i])\n",
    "    print(wars[length])\n",
    "    length-=1\n",
    "print(String)"
   ]
  }
 ],
 "metadata": {
  "celltoolbar": "Create Assignment",
  "kernelspec": {
   "display_name": "Python 3",
   "language": "python",
   "name": "python3"
  },
  "language_info": {
   "codemirror_mode": {
    "name": "ipython",
    "version": 3
   },
   "file_extension": ".py",
   "mimetype": "text/x-python",
   "name": "python",
   "nbconvert_exporter": "python",
   "pygments_lexer": "ipython3",
   "version": "3.6.5"
  }
 },
 "nbformat": 4,
 "nbformat_minor": 5
}
