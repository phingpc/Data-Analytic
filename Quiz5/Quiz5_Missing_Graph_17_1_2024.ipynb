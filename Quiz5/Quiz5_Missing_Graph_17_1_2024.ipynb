{
 "cells": [
  {
   "cell_type": "markdown",
   "metadata": {
    "id": "r7_Rmofnyf0g"
   },
   "source": [
    "Import Python Libraries"
   ]
  },
  {
   "cell_type": "code",
   "execution_count": 1,
   "metadata": {},
   "outputs": [],
   "source": [
    "import numpy as np\n",
    "import scipy as sp\n",
    "import pandas as pd\n",
    "import matplotlib.pyplot as plt\n",
    "import seaborn as sns"
   ]
  },
  {
   "cell_type": "markdown",
   "metadata": {},
   "source": [
    "read your csv"
   ]
  },
  {
   "cell_type": "code",
   "execution_count": 3,
   "metadata": {},
   "outputs": [],
   "source": [
    "pd = pd.read_csv(\"fastfood.csv\")"
   ]
  },
  {
   "cell_type": "markdown",
   "metadata": {
    "id": "lLujIJgLyf0u"
   },
   "source": [
    "---\n",
    "### Common Aggregation Functions:\n",
    "\n",
    "|Function|Description\n",
    "|-------|--------\n",
    "|min   | minimum\n",
    "|max   | maximum\n",
    "|count   | number of non-null observations\n",
    "|sum   | sum of values\n",
    "|mean  | arithmetic mean of values\n",
    "|median | median\n",
    "|mad | mean absolute deviation\n",
    "|mode | mode\n",
    "|prod   | product of values\n",
    "|std  | standard deviation\n",
    "|var | unbiased variance\n",
    "\n"
   ]
  },
  {
   "cell_type": "markdown",
   "metadata": {
    "id": "nDwqIx5hyf0x"
   },
   "source": [
    "---\n",
    "### Basic descriptive statistics:\n",
    "\n",
    "|Function|Description\n",
    "|-------|--------\n",
    "|min   | minimum\n",
    "|max   | maximum\n",
    "|mean  | arithmetic mean of values\n",
    "|median | median\n",
    "|mad | mean absolute deviation\n",
    "|mode | mode\n",
    "|std  | standard deviation\n",
    "|var | unbiased variance\n",
    "|sem | standard error of the mean\n",
    "|skew| sample skewness\n",
    "|kurt|kurtosis\n",
    "|quantile| value at %\n"
   ]
  },
  {
   "cell_type": "markdown",
   "metadata": {
    "id": "yoaXlNcRyf0l"
   },
   "source": [
    "### Missing Values"
   ]
  },
  {
   "cell_type": "markdown",
   "metadata": {},
   "source": [
    "ตรวจสอบว่าข้อมูลที่อยู่ในไฟล์ csv มี missing value หรือไม่"
   ]
  },
  {
   "cell_type": "code",
   "execution_count": 4,
   "metadata": {},
   "outputs": [
    {
     "data": {
      "text/plain": [
       "restaurant       0\n",
       "item             0\n",
       "calories         0\n",
       "cal_fat          0\n",
       "total_fat        0\n",
       "sat_fat          0\n",
       "trans_fat        0\n",
       "cholesterol      0\n",
       "sodium           0\n",
       "total_carb       0\n",
       "fiber           12\n",
       "sugar            0\n",
       "protein          1\n",
       "vit_a          214\n",
       "vit_c          210\n",
       "calcium        210\n",
       "salad            0\n",
       "dtype: int64"
      ]
     },
     "execution_count": 4,
     "metadata": {},
     "output_type": "execute_result"
    }
   ],
   "source": [
    "pd.isnull().sum()"
   ]
  },
  {
   "cell_type": "markdown",
   "metadata": {},
   "source": [
    "นับจำนวนค่าที่ไม่เป็น missing value"
   ]
  },
  {
   "cell_type": "code",
   "execution_count": 5,
   "metadata": {},
   "outputs": [
    {
     "data": {
      "text/plain": [
       "restaurant     515\n",
       "item           515\n",
       "calories       515\n",
       "cal_fat        515\n",
       "total_fat      515\n",
       "sat_fat        515\n",
       "trans_fat      515\n",
       "cholesterol    515\n",
       "sodium         515\n",
       "total_carb     515\n",
       "fiber          503\n",
       "sugar          515\n",
       "protein        514\n",
       "vit_a          301\n",
       "vit_c          305\n",
       "calcium        305\n",
       "salad          515\n",
       "dtype: int64"
      ]
     },
     "execution_count": 5,
     "metadata": {},
     "output_type": "execute_result"
    }
   ],
   "source": [
    "pd.count()"
   ]
  },
  {
   "cell_type": "markdown",
   "metadata": {},
   "source": [
    "เลือกวิธีการที่เหมาะสมสำหรับจัดการกับค่า missing value"
   ]
  },
  {
   "cell_type": "code",
   "execution_count": 7,
   "metadata": {},
   "outputs": [
    {
     "data": {
      "text/plain": [
       "0"
      ]
     },
     "execution_count": 7,
     "metadata": {},
     "output_type": "execute_result"
    }
   ],
   "source": [
    "data_nomissing = pd['calcium'].fillna(pd['calcium'].mean())\n",
    "data_nomissing = pd['vit_c'].fillna(pd['vit_c'].mean())\n",
    "data_nomissing = pd['vit_a'].fillna(pd['vit_a'].mean())\n",
    "data_nomissing = pd['protein'].fillna(pd['protein'].mean())\n",
    "data_nomissing = pd['fiber'].fillna(pd['fiber'].mean())\n",
    "data_nomissing.isnull().sum()"
   ]
  },
  {
   "cell_type": "markdown",
   "metadata": {},
   "source": [
    "อธิบายเหตุผลที่เลือวิธีดังกล่าว สั้นๆพอได้ใจครับ"
   ]
  },
  {
   "cell_type": "code",
   "execution_count": null,
   "metadata": {},
   "outputs": [],
   "source": [
    "เพื่อไม่ให้ค่าเฉลี่ยของข้อมูลที่ยังอยู่ (ไม่ได้missing) เพี้ยน! หากเติมเป็นค่าสูงสุดหรือต่ำสุดจะทำให้ค่าเฉลี่ยของข้อมูล ส่วนเบี่ยงเบนหรือแนวโน้มเพี้ยนได้"
   ]
  },
  {
   "cell_type": "markdown",
   "metadata": {},
   "source": [
    "### Explore data using graphics"
   ]
  },
  {
   "cell_type": "markdown",
   "metadata": {},
   "source": [
    "นำข้อมูลที่ได้มา plot เป็น \n",
    "1. histogram\n",
    "2. pie\n",
    "3. bar\n",
    "4. box\n",
    "5. scatter"
   ]
  },
  {
   "cell_type": "markdown",
   "metadata": {},
   "source": [
    "1.histogram"
   ]
  },
  {
   "cell_type": "code",
   "execution_count": 18,
   "metadata": {},
   "outputs": [
    {
     "data": {
      "text/plain": [
       "(array([ 76., 193., 155.,  57.,  25.,   4.,   3.,   1.,   0.,   1.]),\n",
       " array([  20.,  261.,  502.,  743.,  984., 1225., 1466., 1707., 1948.,\n",
       "        2189., 2430.]),\n",
       " <a list of 10 Patch objects>)"
      ]
     },
     "execution_count": 18,
     "metadata": {},
     "output_type": "execute_result"
    },
    {
     "data": {
      "image/png": "[encoded data removed]",
      "text/plain": [
       "<Figure size 432x288 with 1 Axes>"
      ]
     },
     "metadata": {},
     "output_type": "display_data"
    }
   ],
   "source": [
    "plt.hist(pd['calories'], color = 'pink', edgecolor = 'green')\n",
    "#แกน x คือ ความถี่ของ calories ในขณะที่แกน Y คือจำนวน calories ในความถี่นั้นๆ"
   ]
  },
  {
   "cell_type": "markdown",
   "metadata": {},
   "source": [
    "2.pie"
   ]
  },
  {
   "cell_type": "code",
   "execution_count": 41,
   "metadata": {},
   "outputs": [
    {
     "data": {
      "text/plain": [
       "<matplotlib.axes._subplots.AxesSubplot at 0xbd2e970>"
      ]
     },
     "execution_count": 41,
     "metadata": {},
     "output_type": "execute_result"
    },
    {
     "data": {
      "image/png": "[encoded data removed]",
      "text/plain": [
       "<Figure size 432x288 with 1 Axes>"
      ]
     },
     "metadata": {},
     "output_type": "display_data"
    }
   ],
   "source": [
    "pd.groupby(['restaurant'])['protein'].count().plot(kind='pie')\n",
    "# แต่ละสีคือร้านอาหาร ต่อจำนวนของ protein ในร้านอาหารนั้นๆ(ไม่ใช่ค่าทั้งหมดของ protein ในร้านอาหาร)"
   ]
  },
  {
   "cell_type": "code",
   "execution_count": 27,
   "metadata": {},
   "outputs": [
    {
     "data": {
      "text/html": [
       "<div>\n",
       "<style scoped>\n",
       "    .dataframe tbody tr th:only-of-type {\n",
       "        vertical-align: middle;\n",
       "    }\n",
       "\n",
       "    .dataframe tbody tr th {\n",
       "        vertical-align: top;\n",
       "    }\n",
       "\n",
       "    .dataframe thead th {\n",
       "        text-align: right;\n",
       "    }\n",
       "</style>\n",
       "<table border=\"1\" class=\"dataframe\">\n",
       "  <thead>\n",
       "    <tr style=\"text-align: right;\">\n",
       "      <th></th>\n",
       "      <th>restaurant</th>\n",
       "      <th>item</th>\n",
       "      <th>calories</th>\n",
       "      <th>cal_fat</th>\n",
       "      <th>total_fat</th>\n",
       "      <th>sat_fat</th>\n",
       "      <th>trans_fat</th>\n",
       "      <th>cholesterol</th>\n",
       "      <th>sodium</th>\n",
       "      <th>total_carb</th>\n",
       "      <th>fiber</th>\n",
       "      <th>sugar</th>\n",
       "      <th>protein</th>\n",
       "      <th>vit_a</th>\n",
       "      <th>vit_c</th>\n",
       "      <th>calcium</th>\n",
       "      <th>salad</th>\n",
       "    </tr>\n",
       "  </thead>\n",
       "  <tbody>\n",
       "    <tr>\n",
       "      <th>0</th>\n",
       "      <td>Mcdonalds</td>\n",
       "      <td>Artisan Grilled Chicken Sandwich</td>\n",
       "      <td>380</td>\n",
       "      <td>60</td>\n",
       "      <td>7</td>\n",
       "      <td>2.0</td>\n",
       "      <td>0.0</td>\n",
       "      <td>95</td>\n",
       "      <td>1110</td>\n",
       "      <td>44</td>\n",
       "      <td>3.0</td>\n",
       "      <td>11</td>\n",
       "      <td>37.0</td>\n",
       "      <td>4.0</td>\n",
       "      <td>20.0</td>\n",
       "      <td>20.0</td>\n",
       "      <td>Other</td>\n",
       "    </tr>\n",
       "    <tr>\n",
       "      <th>1</th>\n",
       "      <td>Mcdonalds</td>\n",
       "      <td>Single Bacon Smokehouse Burger</td>\n",
       "      <td>840</td>\n",
       "      <td>410</td>\n",
       "      <td>45</td>\n",
       "      <td>17.0</td>\n",
       "      <td>1.5</td>\n",
       "      <td>130</td>\n",
       "      <td>1580</td>\n",
       "      <td>62</td>\n",
       "      <td>2.0</td>\n",
       "      <td>18</td>\n",
       "      <td>46.0</td>\n",
       "      <td>6.0</td>\n",
       "      <td>20.0</td>\n",
       "      <td>20.0</td>\n",
       "      <td>Other</td>\n",
       "    </tr>\n",
       "    <tr>\n",
       "      <th>2</th>\n",
       "      <td>Mcdonalds</td>\n",
       "      <td>Double Bacon Smokehouse Burger</td>\n",
       "      <td>1130</td>\n",
       "      <td>600</td>\n",
       "      <td>67</td>\n",
       "      <td>27.0</td>\n",
       "      <td>3.0</td>\n",
       "      <td>220</td>\n",
       "      <td>1920</td>\n",
       "      <td>63</td>\n",
       "      <td>3.0</td>\n",
       "      <td>18</td>\n",
       "      <td>70.0</td>\n",
       "      <td>10.0</td>\n",
       "      <td>20.0</td>\n",
       "      <td>50.0</td>\n",
       "      <td>Other</td>\n",
       "    </tr>\n",
       "    <tr>\n",
       "      <th>3</th>\n",
       "      <td>Mcdonalds</td>\n",
       "      <td>Grilled Bacon Smokehouse Chicken Sandwich</td>\n",
       "      <td>750</td>\n",
       "      <td>280</td>\n",
       "      <td>31</td>\n",
       "      <td>10.0</td>\n",
       "      <td>0.5</td>\n",
       "      <td>155</td>\n",
       "      <td>1940</td>\n",
       "      <td>62</td>\n",
       "      <td>2.0</td>\n",
       "      <td>18</td>\n",
       "      <td>55.0</td>\n",
       "      <td>6.0</td>\n",
       "      <td>25.0</td>\n",
       "      <td>20.0</td>\n",
       "      <td>Other</td>\n",
       "    </tr>\n",
       "    <tr>\n",
       "      <th>4</th>\n",
       "      <td>Mcdonalds</td>\n",
       "      <td>Crispy Bacon Smokehouse Chicken Sandwich</td>\n",
       "      <td>920</td>\n",
       "      <td>410</td>\n",
       "      <td>45</td>\n",
       "      <td>12.0</td>\n",
       "      <td>0.5</td>\n",
       "      <td>120</td>\n",
       "      <td>1980</td>\n",
       "      <td>81</td>\n",
       "      <td>4.0</td>\n",
       "      <td>18</td>\n",
       "      <td>46.0</td>\n",
       "      <td>6.0</td>\n",
       "      <td>20.0</td>\n",
       "      <td>20.0</td>\n",
       "      <td>Other</td>\n",
       "    </tr>\n",
       "  </tbody>\n",
       "</table>\n",
       "</div>"
      ],
      "text/plain": [
       "  restaurant                                       item  calories  cal_fat  \\\n",
       "0  Mcdonalds           Artisan Grilled Chicken Sandwich       380       60   \n",
       "1  Mcdonalds             Single Bacon Smokehouse Burger       840      410   \n",
       "2  Mcdonalds             Double Bacon Smokehouse Burger      1130      600   \n",
       "3  Mcdonalds  Grilled Bacon Smokehouse Chicken Sandwich       750      280   \n",
       "4  Mcdonalds   Crispy Bacon Smokehouse Chicken Sandwich       920      410   \n",
       "\n",
       "   total_fat  sat_fat  trans_fat  cholesterol  sodium  total_carb  fiber  \\\n",
       "0          7      2.0        0.0           95    1110          44    3.0   \n",
       "1         45     17.0        1.5          130    1580          62    2.0   \n",
       "2         67     27.0        3.0          220    1920          63    3.0   \n",
       "3         31     10.0        0.5          155    1940          62    2.0   \n",
       "4         45     12.0        0.5          120    1980          81    4.0   \n",
       "\n",
       "   sugar  protein  vit_a  vit_c  calcium  salad  \n",
       "0     11     37.0    4.0   20.0     20.0  Other  \n",
       "1     18     46.0    6.0   20.0     20.0  Other  \n",
       "2     18     70.0   10.0   20.0     50.0  Other  \n",
       "3     18     55.0    6.0   25.0     20.0  Other  \n",
       "4     18     46.0    6.0   20.0     20.0  Other  "
      ]
     },
     "execution_count": 27,
     "metadata": {},
     "output_type": "execute_result"
    }
   ],
   "source": [
    "pd.head()"
   ]
  },
  {
   "cell_type": "markdown",
   "metadata": {},
   "source": [
    "3.bar"
   ]
  },
  {
   "cell_type": "code",
   "execution_count": 36,
   "metadata": {},
   "outputs": [
    {
     "data": {
      "text/plain": [
       "<matplotlib.axes._subplots.AxesSubplot at 0xa504af0>"
      ]
     },
     "execution_count": 36,
     "metadata": {},
     "output_type": "execute_result"
    },
    {
     "data": {
      "image/png": "[encoded data removed]",
      "text/plain": [
       "<Figure size 432x288 with 1 Axes>"
      ]
     },
     "metadata": {},
     "output_type": "display_data"
    }
   ],
   "source": [
    "pd.groupby(['restaurant'])['sodium'].count().plot(kind='bar')\n",
    "# แกน x คือ ร้านอาหาร ส่วนแกน Y คือจำนวนของ sodium ในร้านอาหารนั้นๆ"
   ]
  },
  {
   "cell_type": "markdown",
   "metadata": {},
   "source": [
    "4.box"
   ]
  },
  {
   "cell_type": "code",
   "execution_count": 38,
   "metadata": {},
   "outputs": [
    {
     "data": {
      "text/plain": [
       "<matplotlib.axes._subplots.AxesSubplot at 0xbc2a150>"
      ]
     },
     "execution_count": 38,
     "metadata": {},
     "output_type": "execute_result"
    },
    {
     "data": {
      "image/png": "[encoded data removed]",
      "text/plain": [
       "<Figure size 432x288 with 1 Axes>"
      ]
     },
     "metadata": {},
     "output_type": "display_data"
    }
   ],
   "source": [
    "sns.boxplot(x='restaurant',y='sodium', data=pd)\n",
    "#แกน X คือร้านอาหาร แกน Y คือ ปริมาณ sodium ในขณะที่ boxplot เป็นกลุ่มของจำนวนข้อมูลในความถี่นั้นๆ"
   ]
  },
  {
   "cell_type": "markdown",
   "metadata": {},
   "source": [
    "5.scatter"
   ]
  },
  {
   "cell_type": "code",
   "execution_count": 39,
   "metadata": {},
   "outputs": [
    {
     "data": {
      "text/plain": [
       "<matplotlib.collections.PathCollection at 0xa4f8a50>"
      ]
     },
     "execution_count": 39,
     "metadata": {},
     "output_type": "execute_result"
    },
    {
     "data": {
      "image/png": "[encoded data removed]",
      "text/plain": [
       "<Figure size 432x288 with 1 Axes>"
      ]
     },
     "metadata": {},
     "output_type": "display_data"
    }
   ],
   "source": [
    "plt.scatter(pd['protein'], pd['cholesterol'], color = \"black\")\n",
    "# แกน X คือ protein แกน Y คือ cholesterol"
   ]
  },
  {
   "cell_type": "code",
   "execution_count": null,
   "metadata": {},
   "outputs": [],
   "source": []
  }
 ],
 "metadata": {
  "colab": {
   "name": "05-Lab-Missing-Graph-26-Jan-2022.ipynb",
   "provenance": []
  },
  "kernelspec": {
   "display_name": "Python 3",
   "language": "python",
   "name": "python3"
  },
  "language_info": {
   "codemirror_mode": {
    "name": "ipython",
    "version": 3
   },
   "file_extension": ".py",
   "mimetype": "text/x-python",
   "name": "python",
   "nbconvert_exporter": "python",
   "pygments_lexer": "ipython3",
   "version": "3.6.5"
  }
 },
 "nbformat": 4,
 "nbformat_minor": 1
}
