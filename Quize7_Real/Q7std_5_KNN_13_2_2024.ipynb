{
 "cells": [
  {
   "cell_type": "markdown",
   "metadata": {
    "id": "yzz1TaHsbnAS"
   },
   "source": [
    "###  Read CSV"
   ]
  },
  {
   "cell_type": "code",
   "execution_count": 6,
   "metadata": {},
   "outputs": [
    {
     "data": {
      "text/plain": [
       "Index(['CustomerID', 'Gender', 'Age', 'Annual Income ($)',\n",
       "       'Spending Score (1-100)', 'Profession', 'Work Experience',\n",
       "       'Family Size'],\n",
       "      dtype='object')"
      ]
     },
     "execution_count": 6,
     "metadata": {},
     "output_type": "execute_result"
    }
   ],
   "source": [
    "import pandas as pd\n",
    "import numpy as np\n",
    "\n",
    "customer = pd.read_csv('Customerswithoutnull.csv')\n",
    "\n",
    "#print(customer)\n",
    "customer.columns"
   ]
  },
  {
   "cell_type": "markdown",
   "metadata": {
    "id": "aqK-YWiwbnAV"
   },
   "source": [
    "Converting string labels into numbers (Import LabelEncoder)"
   ]
  },
  {
   "cell_type": "code",
   "execution_count": 9,
   "metadata": {},
   "outputs": [
    {
     "name": "stdout",
     "output_type": "stream",
     "text": [
      "      CustomerID  Gender  Age  Annual Income ($)  Spending Score (1-100)  \\\n",
      "0              1       1   19              15000                      39   \n",
      "1              2       1   21              35000                      81   \n",
      "2              3       0   20              86000                       6   \n",
      "3              4       0   23              59000                      77   \n",
      "4              5       0   31              38000                      40   \n",
      "5              6       0   22              58000                      76   \n",
      "6              7       0   35              31000                       6   \n",
      "7              8       0   23              84000                      94   \n",
      "8              9       1   64              97000                       3   \n",
      "9             10       0   30              98000                      72   \n",
      "10            11       1   67               7000                      14   \n",
      "11            12       0   35              93000                      99   \n",
      "12            13       0   58              80000                      15   \n",
      "13            14       0   24              91000                      77   \n",
      "14            15       1   37              19000                      13   \n",
      "15            16       1   22              51000                      79   \n",
      "16            17       0   35              29000                      35   \n",
      "17            18       1   20              89000                      66   \n",
      "18            19       1   52              20000                      29   \n",
      "19            20       0   35              62000                      98   \n",
      "20            21       1   35              96000                      35   \n",
      "21            22       1   25               4000                      73   \n",
      "22            23       0   46              42000                       5   \n",
      "23            24       1   31              71000                      73   \n",
      "24            25       0   54              67000                      14   \n",
      "25            26       1   29              52000                      82   \n",
      "26            27       0   45              68000                      32   \n",
      "27            28       1   35              78000                      61   \n",
      "28            29       0   40              18000                      31   \n",
      "29            30       0   23              20000                      87   \n",
      "...          ...     ...  ...                ...                     ...   \n",
      "1935        1971       1   55             107099                      89   \n",
      "1936        1972       1   45             140263                      88   \n",
      "1937        1973       1   98             104249                      12   \n",
      "1938        1974       1   40             168821                      36   \n",
      "1939        1975       0   14             153145                      59   \n",
      "1940        1976       0   41             128960                      43   \n",
      "1941        1977       1   60             127438                      82   \n",
      "1942        1978       1   60             125968                     100   \n",
      "1943        1979       1   84             104589                      85   \n",
      "1944        1980       1    0             165321                      93   \n",
      "1945        1981       0   10              86925                      76   \n",
      "1946        1982       0   62             149797                      19   \n",
      "1947        1983       1   33             137094                      68   \n",
      "1948        1984       0   52              55395                      41   \n",
      "1949        1985       0    2             153622                      51   \n",
      "1950        1986       1   27              74050                      44   \n",
      "1951        1987       0    4              68094                      61   \n",
      "1952        1988       1   63              59244                      80   \n",
      "1953        1989       0   54             118944                      77   \n",
      "1954        1990       0   47              75293                      55   \n",
      "1955        1991       0   30             166983                      69   \n",
      "1956        1992       0   97             129444                      96   \n",
      "1957        1993       1   94             181183                      24   \n",
      "1958        1994       0   64             175254                     100   \n",
      "1959        1995       0   19              54121                      89   \n",
      "1960        1996       0   71             184387                      40   \n",
      "1961        1997       0   91              73158                      32   \n",
      "1962        1998       1   87              90961                      14   \n",
      "1963        1999       1   77             182109                       4   \n",
      "1964        2000       1   90             110610                      52   \n",
      "\n",
      "         Profession  Work Experience  Family Size  \n",
      "0        Healthcare                1            4  \n",
      "1          Engineer                3            3  \n",
      "2          Engineer                1            1  \n",
      "3            Lawyer                0            2  \n",
      "4     Entertainment                2            6  \n",
      "5            Artist                0            2  \n",
      "6        Healthcare                1            3  \n",
      "7        Healthcare                1            3  \n",
      "8          Engineer                0            3  \n",
      "9            Artist                1            4  \n",
      "10         Engineer                1            3  \n",
      "11       Healthcare                4            4  \n",
      "12        Executive                0            5  \n",
      "13           Lawyer                1            1  \n",
      "14           Doctor                0            1  \n",
      "15       Healthcare                1            2  \n",
      "16        Homemaker                9            5  \n",
      "17       Healthcare                1            6  \n",
      "18    Entertainment                1            4  \n",
      "19           Artist                0            1  \n",
      "20        Homemaker               12            1  \n",
      "21       Healthcare                3            4  \n",
      "22           Artist               13            2  \n",
      "23           Artist                5            2  \n",
      "24        Executive                1            3  \n",
      "25           Artist                1            3  \n",
      "26       Healthcare                9            8  \n",
      "27           Artist                1            3  \n",
      "28           Artist                0            1  \n",
      "29           Artist                5            4  \n",
      "...             ...              ...          ...  \n",
      "1935      Executive                4            6  \n",
      "1936  Entertainment               10            5  \n",
      "1937       Engineer                5            2  \n",
      "1938      Executive                4            5  \n",
      "1939     Healthcare                8            6  \n",
      "1940      Executive                9            4  \n",
      "1941       Engineer                7            2  \n",
      "1942         Lawyer                8            2  \n",
      "1943         Artist               10            2  \n",
      "1944         Doctor                8            1  \n",
      "1945         Artist                7            2  \n",
      "1946         Artist                5            6  \n",
      "1947         Lawyer                4            1  \n",
      "1948      Marketing               10            1  \n",
      "1949         Lawyer                6            6  \n",
      "1950  Entertainment                8            1  \n",
      "1951         Doctor                4            7  \n",
      "1952         Artist                7            1  \n",
      "1953         Artist                4            4  \n",
      "1954         Doctor                6            7  \n",
      "1955         Artist                7            3  \n",
      "1956  Entertainment                5            6  \n",
      "1957      Marketing                9            3  \n",
      "1958         Artist                9            5  \n",
      "1959       Engineer                6            3  \n",
      "1960         Artist                8            7  \n",
      "1961         Doctor                7            7  \n",
      "1962     Healthcare                9            2  \n",
      "1963      Executive                7            2  \n",
      "1964  Entertainment                5            2  \n",
      "\n",
      "[1965 rows x 8 columns]\n"
     ]
    }
   ],
   "source": [
    "from sklearn import preprocessing\n",
    "\n",
    "number = preprocessing.LabelEncoder()\n",
    "\n",
    "customer['Gender'] = number.fit_transform(customer['Gender'])\n",
    "print(customer)"
   ]
  },
  {
   "cell_type": "markdown",
   "metadata": {
    "id": "hAcBQm-Wm6rs"
   },
   "source": [
    "sklearn library, which can be found in sklearn.naive_bayes:\n",
    "\n",
    "sklearn.naive_bayes.CategoricalNB:\n",
    "    for using Naive Bayes on categorical predictor variables.\n",
    "            \n",
    "sklearn.naive_bayes.GaussianNB:\n",
    "    for Naive Bayes on numerical predictor variables, with the assumption\n",
    "    that these variables follow Gaussian distribution.\n",
    "    \n",
    "sklearn.naive_bayes.MultinomialNB:\n",
    "    the predictor variables represent the counts, a popular application\n",
    "    is in text classification. Fractional counts like tf-idf may also work.\n",
    "    \n",
    "sklearn.naive_bayes.ComplementNB:\n",
    "    A modification of MultinomialNB which is suitable for imbalanced datasets.\n",
    "    \n",
    "sklearn.naive_bayes.BernoulliNB:\n",
    "    assumes the data follows Bernoulli distribution (i.e. possible values of\n",
    "    predictor variables are 0 and 1)."
   ]
  },
  {
   "cell_type": "markdown",
   "metadata": {
    "id": "4E4emxUebnAX"
   },
   "source": [
    "## NEW DATA SET"
   ]
  },
  {
   "cell_type": "markdown",
   "metadata": {
    "id": "mM0eaRewrDkQ"
   },
   "source": [
    "predict \"Profession\" from NEW DATA"
   ]
  },
  {
   "cell_type": "code",
   "execution_count": 10,
   "metadata": {
    "colab": {
     "base_uri": "https://localhost:8080/"
    },
    "id": "MM8cn6M8iAOM",
    "outputId": "762507be-0202-4bea-e5b5-59fa953548ac"
   },
   "outputs": [],
   "source": [
    "random_values = {'Gender': 1,\n",
    " 'Age': 63,\n",
    " 'Annual Income ($)': 186723,\n",
    " 'Spending Score (1-100)': 24,\n",
    " 'Work Experience': 1,\n",
    " 'Family Size': 1}"
   ]
  },
  {
   "cell_type": "markdown",
   "metadata": {
    "id": "7V8N6lcvbnAX"
   },
   "source": [
    "### Naive Bayes"
   ]
  },
  {
   "cell_type": "markdown",
   "metadata": {
    "id": "zVV28RL8bnAX"
   },
   "source": [
    "#### Import Library of Naive Bayes"
   ]
  },
  {
   "cell_type": "code",
   "execution_count": 11,
   "metadata": {},
   "outputs": [],
   "source": [
    "from sklearn.naive_bayes import GaussianNB, BernoulliNB, MultinomialNB"
   ]
  },
  {
   "cell_type": "markdown",
   "metadata": {
    "id": "_IsLKmyrbnAY"
   },
   "source": [
    "### GaussianNB"
   ]
  },
  {
   "cell_type": "code",
   "execution_count": 15,
   "metadata": {},
   "outputs": [
    {
     "name": "stdout",
     "output_type": "stream",
     "text": [
      "Predicted Value: ['Artist']\n"
     ]
    }
   ],
   "source": [
    "NB_model = GaussianNB()\n",
    "\n",
    "NB_model.fit(customer[['Gender', 'Age', 'Annual Income ($)',\n",
    "       'Spending Score (1-100)','Work Experience',\n",
    "       'Family Size']],customer['Profession'])\n",
    "\n",
    "predicted= NB_model.predict([[1,63,186723,24,1,1]])\n",
    "\n",
    "print(\"Predicted Value:\", predicted)"
   ]
  },
  {
   "cell_type": "markdown",
   "metadata": {
    "id": "zaoupdp-bnAY"
   },
   "source": [
    "### BernoulliNB"
   ]
  },
  {
   "cell_type": "code",
   "execution_count": 16,
   "metadata": {},
   "outputs": [
    {
     "name": "stdout",
     "output_type": "stream",
     "text": [
      "Predicted Value: ['Artist']\n"
     ]
    }
   ],
   "source": [
    "NB_model = BernoulliNB()\n",
    "\n",
    "NB_model.fit(customer[['Gender', 'Age', 'Annual Income ($)',\n",
    "       'Spending Score (1-100)','Work Experience',\n",
    "       'Family Size']],customer['Profession'])\n",
    "\n",
    "predicted= NB_model.predict([[1,63,186723,24,1,1]])\n",
    "\n",
    "print(\"Predicted Value:\", predicted)"
   ]
  },
  {
   "cell_type": "markdown",
   "metadata": {
    "id": "KB08GEcTbnAY"
   },
   "source": [
    "### MultinomialNB"
   ]
  },
  {
   "cell_type": "code",
   "execution_count": 17,
   "metadata": {},
   "outputs": [
    {
     "name": "stdout",
     "output_type": "stream",
     "text": [
      "Predicted Value: ['Lawyer']\n"
     ]
    }
   ],
   "source": [
    "NB_model = MultinomialNB()\n",
    "\n",
    "\n",
    "NB_model.fit(customer[['Gender', 'Age', 'Annual Income ($)',\n",
    "       'Spending Score (1-100)','Work Experience',\n",
    "       'Family Size']],customer['Profession'])\n",
    "\n",
    "predicted= NB_model.predict([[1,63,186723,24,1,1]])\n",
    "\n",
    "print(\"Predicted Value:\", predicted)"
   ]
  },
  {
   "cell_type": "markdown",
   "metadata": {
    "id": "w7sPw5YCbnAY"
   },
   "source": [
    "### K-Nearest Neighbor"
   ]
  },
  {
   "cell_type": "code",
   "execution_count": 19,
   "metadata": {},
   "outputs": [],
   "source": [
    "from sklearn.neighbors import KNeighborsClassifier"
   ]
  },
  {
   "cell_type": "markdown",
   "metadata": {
    "id": "uYqTzL-UbnAZ"
   },
   "source": [
    "#### n_neighbors=3"
   ]
  },
  {
   "cell_type": "code",
   "execution_count": 20,
   "metadata": {},
   "outputs": [
    {
     "name": "stdout",
     "output_type": "stream",
     "text": [
      "Predicted Value: ['Entertainment']\n"
     ]
    }
   ],
   "source": [
    "KNN_model = KNeighborsClassifier(n_neighbors= 3)\n",
    "\n",
    "KNN_model.fit(customer[['Gender', 'Age', 'Annual Income ($)',\n",
    "       'Spending Score (1-100)','Work Experience',\n",
    "       'Family Size']],customer['Profession'])\n",
    "\n",
    "#Predict Output\n",
    "predicted= KNN_model.predict([[1,63,186723,24,1,1]])\n",
    "print(\"Predicted Value:\", predicted)"
   ]
  },
  {
   "cell_type": "markdown",
   "metadata": {
    "id": "WKVr9fpTbnAZ"
   },
   "source": [
    "#### n_neighbors=5"
   ]
  },
  {
   "cell_type": "code",
   "execution_count": 21,
   "metadata": {},
   "outputs": [
    {
     "name": "stdout",
     "output_type": "stream",
     "text": [
      "Predicted Value: ['Entertainment']\n"
     ]
    }
   ],
   "source": [
    "KNN_model = KNeighborsClassifier(n_neighbors= 5)\n",
    "\n",
    "KNN_model.fit(customer[['Gender', 'Age', 'Annual Income ($)',\n",
    "       'Spending Score (1-100)','Work Experience',\n",
    "       'Family Size']],customer['Profession'])\n",
    "\n",
    "#Predict Output\n",
    "predicted= KNN_model.predict([[1,63,186723,24,1,1]])\n",
    "print(\"Predicted Value:\", predicted)"
   ]
  },
  {
   "cell_type": "code",
   "execution_count": null,
   "metadata": {},
   "outputs": [],
   "source": []
  }
 ],
 "metadata": {
  "colab": {
   "provenance": []
  },
  "kernelspec": {
   "display_name": "Python 3",
   "language": "python",
   "name": "python3"
  },
  "language_info": {
   "codemirror_mode": {
    "name": "ipython",
    "version": 3
   },
   "file_extension": ".py",
   "mimetype": "text/x-python",
   "name": "python",
   "nbconvert_exporter": "python",
   "pygments_lexer": "ipython3",
   "version": "3.6.5"
  }
 },
 "nbformat": 4,
 "nbformat_minor": 1
}
