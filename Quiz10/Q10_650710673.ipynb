{
 "cells": [
  {
   "cell_type": "code",
   "execution_count": 1,
   "metadata": {},
   "outputs": [],
   "source": [
    "import pandas as pd\n",
    "import numpy as np"
   ]
  },
  {
   "cell_type": "code",
   "execution_count": 2,
   "metadata": {},
   "outputs": [
    {
     "name": "stdout",
     "output_type": "stream",
     "text": [
      "      outlook temperature humidity   windy Money  Gender Dating\n",
      "0    overcast         hot     high    weak    No  female    Yes\n",
      "1       sunny         hot   normal    weak   Yes  female    Yes\n",
      "2       sunny        mild     high  strong    No  female    Yes\n",
      "3       rainy        cool   normal    weak    No    male    Yes\n",
      "4    overcast        mild   normal    weak   Yes  female    Yes\n",
      "5    overcast        cool   normal    weak   Yes    male    Yes\n",
      "6    overcast         hot   normal  strong    No    male     No\n",
      "7       sunny        mild   normal  strong   Yes  female    Yes\n",
      "8       rainy         hot     high  strong   Yes    male    Yes\n",
      "9       sunny        mild   normal    weak    No  female     No\n",
      "10   overcast        mild     high  strong    No  female    Yes\n",
      "11      sunny         hot   normal    weak   Yes    male     No\n",
      "12   overcast        cool     high    weak   Yes  female     No\n",
      "13   overcast         hot     high  strong    No  female    Yes\n",
      "14      sunny        mild     high    weak    No    male    Yes\n",
      "15      sunny        mild   normal  strong    No    male     No\n",
      "16      rainy        mild     high    weak    No    male     No\n",
      "17   overcast         hot   normal    weak   Yes  female     No\n",
      "18      rainy         hot     high  strong    No    male    Yes\n",
      "19      sunny         hot   normal    weak   NaN    male    Yes\n",
      "20      sunny        mild   normal  strong    No  female     No\n",
      "21   overcast        mild   normal    weak   Yes    male    Yes\n",
      "22      rainy        mild     high    weak   Yes  female    Yes\n",
      "23   overcast         hot     high  strong    No  female     No\n",
      "24      rainy        mild     high  strong   Yes    male     No\n",
      "25      sunny         hot   normal  strong   Yes    male     No\n",
      "26      rainy        mild   normal  strong    No  female    Yes\n",
      "27   overcast        cool   normal    weak    No  female     No\n",
      "28   overcast        mild     high    weak    No    male     No\n",
      "29   overcast        mild   normal    weak    No  female    Yes\n",
      "..        ...         ...      ...     ...   ...     ...    ...\n",
      "970     rainy        cool   normal    weak   Yes    male     No\n",
      "971  overcast        mild     high  strong    No  female    Yes\n",
      "972     sunny        mild     high  strong   Yes    male     No\n",
      "973     sunny        cool   normal  strong   Yes  female    Yes\n",
      "974     sunny        mild     high    weak    No    male    Yes\n",
      "975  overcast        cool   normal  strong   Yes    male     No\n",
      "976  overcast        mild     high    weak   Yes    male     No\n",
      "977  overcast         hot   normal  strong    No    male     No\n",
      "978     sunny        mild   normal    weak   Yes    male    Yes\n",
      "979     sunny        mild   normal  strong    No  female     No\n",
      "980     rainy         hot     high    weak    No  female     No\n",
      "981     rainy        cool   normal  strong   Yes  female     No\n",
      "982     sunny         hot     high    weak    No    male    Yes\n",
      "983     rainy        mild     high  strong   Yes    male    Yes\n",
      "984  overcast        cool   normal  strong   Yes  female    Yes\n",
      "985     sunny        cool     high  strong    No  female    Yes\n",
      "986     rainy        mild     high  strong    No  female     No\n",
      "987     sunny         hot   normal    weak    No    male    Yes\n",
      "988     rainy        cool   normal  strong   NaN  female     No\n",
      "989     sunny        cool   normal  strong    No  female    Yes\n",
      "990     rainy         hot   normal    weak    No  female     No\n",
      "991  overcast         hot   normal    weak    No  female     No\n",
      "992     rainy        mild   normal    weak   Yes  female    Yes\n",
      "993     sunny        cool     high  strong    No    male    Yes\n",
      "994     rainy         hot     high  strong    No    male    Yes\n",
      "995     sunny         hot   normal    weak    No    male    Yes\n",
      "996  overcast        cool   normal    weak    No    male     No\n",
      "997     sunny        cool     high  strong    No    male    Yes\n",
      "998  overcast        cool     high    weak   Yes  female    Yes\n",
      "999  overcast        cool     high  strong   Yes  female     No\n",
      "\n",
      "[1000 rows x 7 columns]\n"
     ]
    }
   ],
   "source": [
    "data_set  = pd.read_csv('Dating2.csv')\n",
    "print(data_set)"
   ]
  },
  {
   "cell_type": "code",
   "execution_count": 4,
   "metadata": {},
   "outputs": [
    {
     "name": "stdout",
     "output_type": "stream",
     "text": [
      "     outlook  temperature  humidity  windy  Money  Gender Dating\n",
      "0          0            1         0      1      0       0    Yes\n",
      "1          2            1         1      1      1       0    Yes\n",
      "2          2            2         0      0      0       0    Yes\n",
      "3          1            0         1      1      0       1    Yes\n",
      "4          0            2         1      1      1       0    Yes\n",
      "5          0            0         1      1      1       1    Yes\n",
      "6          0            1         1      0      0       1     No\n",
      "7          2            2         1      0      1       0    Yes\n",
      "8          1            1         0      0      1       1    Yes\n",
      "9          2            2         1      1      0       0     No\n",
      "10         0            2         0      0      0       0    Yes\n",
      "11         2            1         1      1      1       1     No\n",
      "12         0            0         0      1      1       0     No\n",
      "13         0            1         0      0      0       0    Yes\n",
      "14         2            2         0      1      0       1    Yes\n",
      "15         2            2         1      0      0       1     No\n",
      "16         1            2         0      1      0       1     No\n",
      "17         0            1         1      1      1       0     No\n",
      "18         1            1         0      0      0       1    Yes\n",
      "19         2            1         1      1      0       1    Yes\n",
      "20         2            2         1      0      0       0     No\n",
      "21         0            2         1      1      1       1    Yes\n",
      "22         1            2         0      1      1       0    Yes\n",
      "23         0            1         0      0      0       0     No\n",
      "24         1            2         0      0      1       1     No\n",
      "25         2            1         1      0      1       1     No\n",
      "26         1            2         1      0      0       0    Yes\n",
      "27         0            0         1      1      0       0     No\n",
      "28         0            2         0      1      0       1     No\n",
      "29         0            2         1      1      0       0    Yes\n",
      "..       ...          ...       ...    ...    ...     ...    ...\n",
      "970        1            0         1      1      1       1     No\n",
      "971        0            2         0      0      0       0    Yes\n",
      "972        2            2         0      0      1       1     No\n",
      "973        2            0         1      0      1       0    Yes\n",
      "974        2            2         0      1      0       1    Yes\n",
      "975        0            0         1      0      1       1     No\n",
      "976        0            2         0      1      1       1     No\n",
      "977        0            1         1      0      0       1     No\n",
      "978        2            2         1      1      1       1    Yes\n",
      "979        2            2         1      0      0       0     No\n",
      "980        1            1         0      1      0       0     No\n",
      "981        1            0         1      0      1       0     No\n",
      "982        2            1         0      1      0       1    Yes\n",
      "983        1            2         0      0      1       1    Yes\n",
      "984        0            0         1      0      1       0    Yes\n",
      "985        2            0         0      0      0       0    Yes\n",
      "986        1            2         0      0      0       0     No\n",
      "987        2            1         1      1      0       1    Yes\n",
      "988        1            0         1      0      0       0     No\n",
      "989        2            0         1      0      0       0    Yes\n",
      "990        1            1         1      1      0       0     No\n",
      "991        0            1         1      1      0       0     No\n",
      "992        1            2         1      1      1       0    Yes\n",
      "993        2            0         0      0      0       1    Yes\n",
      "994        1            1         0      0      0       1    Yes\n",
      "995        2            1         1      1      0       1    Yes\n",
      "996        0            0         1      1      0       1     No\n",
      "997        2            0         0      0      0       1    Yes\n",
      "998        0            0         0      1      1       0    Yes\n",
      "999        0            0         0      0      1       0     No\n",
      "\n",
      "[1000 rows x 7 columns]\n"
     ]
    }
   ],
   "source": [
    "from sklearn import preprocessing\n",
    "\n",
    "number = preprocessing.LabelEncoder()\n",
    "\n",
    "data_set_nomiss = data_set.fillna('No')\n",
    "\n",
    "\n",
    "data_set_nomiss['outlook'] = number.fit_transform(data_set_nomiss['outlook'])\n",
    "data_set_nomiss['temperature'] = number.fit_transform(data_set_nomiss['temperature'])\n",
    "data_set_nomiss['humidity'] = number.fit_transform(data_set_nomiss['humidity'])\n",
    "data_set_nomiss['windy'] = number.fit_transform(data_set_nomiss['windy'])\n",
    "data_set_nomiss['Money'] = number.fit_transform(data_set_nomiss['Money'])\n",
    "data_set_nomiss['Gender'] = number.fit_transform(data_set_nomiss['Gender'])\n",
    "\n",
    "print(data_set_nomiss)"
   ]
  },
  {
   "cell_type": "code",
   "execution_count": 5,
   "metadata": {},
   "outputs": [],
   "source": [
    "from sklearn.naive_bayes import GaussianNB, BernoulliNB, MultinomialNB\n",
    "\n",
    "\n",
    "Gaussian_NB = GaussianNB()\n",
    "Bernoulli_NB = BernoulliNB()\n",
    "Multinomial_NB = MultinomialNB()"
   ]
  },
  {
   "cell_type": "code",
   "execution_count": 14,
   "metadata": {},
   "outputs": [
    {
     "name": "stdout",
     "output_type": "stream",
     "text": [
      "700 300 700 300\n"
     ]
    }
   ],
   "source": [
    "from sklearn.model_selection import train_test_split\n",
    "\n",
    "X = data_set_nomiss[['outlook','temperature', 'humidity','windy','Money','Gender']]\n",
    "Y = data_set_nomiss['Dating']\n",
    "\n",
    "\n",
    "X_train, X_test, y_train, y_test = train_test_split(X,Y,test_size=0.3,random_state=5)\n",
    "\n",
    "print(len(X_train),len(X_test),len(y_train),len(y_test))"
   ]
  },
  {
   "cell_type": "code",
   "execution_count": 15,
   "metadata": {},
   "outputs": [
    {
     "name": "stdout",
     "output_type": "stream",
     "text": [
      "0.5528571428571428\n",
      "0.52\n"
     ]
    }
   ],
   "source": [
    "Gaussian_NB.fit(X_train,y_train)\n",
    "Bernoulli_NB.fit(X_train,y_train)\n",
    "Multinomial_NB.fit(X_train,y_train)\n",
    "#Categorical_NB.fit(...)\n",
    "\n",
    "\n",
    "#Predict the response for test dataset\n",
    "#predict ข้อมูลทั้ง 30 per เพื่อทดสอบ\n",
    "# X_test คือเฉลย Y คือการทดสอบที่คาดการ\n",
    "Y_Predict_GNB = Gaussian_NB.predict(X_test)\n",
    "Y_Predict_BNB = Bernoulli_NB.predict(X_test)\n",
    "Y_Predict_MNB = Multinomial_NB.predict(X_test)\n",
    "#Y_Predict_CNB = Categorical_NB.predict(X_test)\n",
    "\n",
    "\n",
    "print(Bernoulli_NB.score(X_train,y_train))\n",
    "print(Bernoulli_NB.score(X_test,y_test))"
   ]
  },
  {
   "cell_type": "code",
   "execution_count": 16,
   "metadata": {},
   "outputs": [
    {
     "name": "stdout",
     "output_type": "stream",
     "text": [
      "Gaussian Accuracy: 0.5466666666666666\n",
      "Bernoulli Accuracy: 0.52\n",
      "Multinomial Accuracy: 0.5533333333333333\n"
     ]
    }
   ],
   "source": [
    "from sklearn import metrics\n",
    "\n",
    "# Model Accuracy, how often is the classifier correct?\n",
    "# ค่าความถูกต้อง(Accuracy)(Per) \n",
    "print(\"Gaussian Accuracy:\",metrics.accuracy_score(y_test, Y_Predict_GNB))\n",
    "print(\"Bernoulli Accuracy:\",metrics.accuracy_score(y_test,Y_Predict_BNB))\n",
    "print(\"Multinomial Accuracy:\",metrics.accuracy_score(y_test,Y_Predict_MNB))"
   ]
  },
  {
   "cell_type": "code",
   "execution_count": 17,
   "metadata": {},
   "outputs": [
    {
     "data": {
      "text/plain": [
       "array([[108,  53],\n",
       "       [ 91,  48]], dtype=int64)"
      ]
     },
     "execution_count": 17,
     "metadata": {},
     "output_type": "execute_result"
    }
   ],
   "source": [
    "confusion_matrix = metrics.confusion_matrix(y_test, Y_Predict_BNB)\n",
    "confusion_matrix"
   ]
  },
  {
   "cell_type": "code",
   "execution_count": 18,
   "metadata": {},
   "outputs": [
    {
     "name": "stdout",
     "output_type": "stream",
     "text": [
      "KNN Accuracy: 0.5033333333333333\n"
     ]
    }
   ],
   "source": [
    "from sklearn.neighbors import KNeighborsClassifier\n",
    "\n",
    "#Create a KNN Classifier\n",
    "KNN_model = KNeighborsClassifier(n_neighbors=3)\n",
    "KNN_model.fit(X_train,y_train)\n",
    "\n",
    "# predict(...)\n",
    "Y_Predict_KNN = KNN_model.predict(X_test)\n",
    "print(\"KNN Accuracy:\",metrics.accuracy_score(y_test, Y_Predict_KNN))"
   ]
  },
  {
   "cell_type": "code",
   "execution_count": 19,
   "metadata": {},
   "outputs": [
    {
     "ename": "AttributeError",
     "evalue": "module 'sklearn.metrics' has no attribute 'ConfusionMatrixDisplay'",
     "output_type": "error",
     "traceback": [
      "\u001b[1;31m---------------------------------------------------------------------------\u001b[0m",
      "\u001b[1;31mAttributeError\u001b[0m                            Traceback (most recent call last)",
      "\u001b[1;32m<ipython-input-19-686612aaec23>\u001b[0m in \u001b[0;36m<module>\u001b[1;34m()\u001b[0m\n\u001b[0;32m      1\u001b[0m \u001b[1;32mimport\u001b[0m \u001b[0mmatplotlib\u001b[0m\u001b[1;33m.\u001b[0m\u001b[0mpyplot\u001b[0m \u001b[1;32mas\u001b[0m \u001b[0mplt\u001b[0m\u001b[1;33m\u001b[0m\u001b[0m\n\u001b[1;32m----> 2\u001b[1;33m \u001b[0mcm_display\u001b[0m \u001b[1;33m=\u001b[0m \u001b[0mmetrics\u001b[0m\u001b[1;33m.\u001b[0m\u001b[0mConfusionMatrixDisplay\u001b[0m\u001b[1;33m(\u001b[0m\u001b[0mconfusion_matrix\u001b[0m \u001b[1;33m=\u001b[0m \u001b[0mconfusion_matrix\u001b[0m\u001b[1;33m,\u001b[0m \u001b[0mdisplay_labels\u001b[0m \u001b[1;33m=\u001b[0m \u001b[1;33m[\u001b[0m\u001b[1;34m'Date'\u001b[0m\u001b[1;33m,\u001b[0m \u001b[1;34m'no Date'\u001b[0m\u001b[1;33m]\u001b[0m\u001b[1;33m)\u001b[0m\u001b[1;33m\u001b[0m\u001b[0m\n\u001b[0m\u001b[0;32m      3\u001b[0m \u001b[1;33m\u001b[0m\u001b[0m\n\u001b[0;32m      4\u001b[0m \u001b[0mcm_display\u001b[0m\u001b[1;33m.\u001b[0m\u001b[0mplot\u001b[0m\u001b[1;33m(\u001b[0m\u001b[1;33m)\u001b[0m\u001b[1;33m\u001b[0m\u001b[0m\n\u001b[0;32m      5\u001b[0m \u001b[0mplt\u001b[0m\u001b[1;33m.\u001b[0m\u001b[0mshow\u001b[0m\u001b[1;33m(\u001b[0m\u001b[1;33m)\u001b[0m\u001b[1;33m\u001b[0m\u001b[0m\n",
      "\u001b[1;31mAttributeError\u001b[0m: module 'sklearn.metrics' has no attribute 'ConfusionMatrixDisplay'"
     ]
    }
   ],
   "source": [
    "import matplotlib.pyplot as plt\n",
    "cm_display = metrics.ConfusionMatrixDisplay(confusion_matrix = confusion_matrix, display_labels = ['Date', 'no Date'])\n",
    "\n",
    "cm_display.plot()\n",
    "plt.show()"
   ]
  },
  {
   "cell_type": "code",
   "execution_count": null,
   "metadata": {},
   "outputs": [],
   "source": []
  }
 ],
 "metadata": {
  "kernelspec": {
   "display_name": "Python 3",
   "language": "python",
   "name": "python3"
  },
  "language_info": {
   "codemirror_mode": {
    "name": "ipython",
    "version": 3
   },
   "file_extension": ".py",
   "mimetype": "text/x-python",
   "name": "python",
   "nbconvert_exporter": "python",
   "pygments_lexer": "ipython3",
   "version": "3.6.5"
  }
 },
 "nbformat": 4,
 "nbformat_minor": 2
}
