{
 "cells": [
  {
   "cell_type": "markdown",
   "metadata": {
    "id": "ee652cc3",
    "nbgrader": {
     "grade": false,
     "grade_id": "cell-d72c9d210ed7a155",
     "locked": true,
     "schema_version": 3,
     "solution": false,
     "task": false
    }
   },
   "source": [
    "# รหัสนักศึกษา-ชื่อ-นามสกุล (Heading)"
   ]
  },
  {
   "cell_type": "code",
   "execution_count": null,
   "metadata": {
    "id": "a0f7325c"
   },
   "outputs": [],
   "source": [
    "#ใส่ตรงนี้เลย 640710XXX-Loid-Forger"
   ]
  },
  {
   "cell_type": "markdown",
   "metadata": {},
   "source": [
    "# 650710673-jakkaphat-katchapong"
   ]
  },
  {
   "cell_type": "markdown",
   "metadata": {
    "id": "984cca2e"
   },
   "source": [
    "## 640710XXX-Loid-Forger"
   ]
  },
  {
   "cell_type": "markdown",
   "metadata": {
    "id": "b18a825b",
    "nbgrader": {
     "grade": false,
     "grade_id": "cell-a2e0ae38b0f7c5b4",
     "locked": true,
     "schema_version": 3,
     "solution": false,
     "task": false
    }
   },
   "source": [
    "# Input Output in PYTHON"
   ]
  },
  {
   "cell_type": "code",
   "execution_count": 6,
   "metadata": {
    "id": "4f6ca03f",
    "outputId": "32e3632e-3072-4fa8-8426-228decfc4226"
   },
   "outputs": [
    {
     "name": "stdout",
     "output_type": "stream",
     "text": [
      "อ่านทำไม\n",
      "อ่านทำไม\n"
     ]
    }
   ],
   "source": [
    "#input to variable\n",
    "Something = input()\n",
    "# กำหนดรับค่าเป็น int เพราะ input() คืนค่าเป็น string \n",
    "# Something = int(input())\n",
    "print(Something)"
   ]
  },
  {
   "cell_type": "code",
   "execution_count": 7,
   "metadata": {
    "id": "2db666ff",
    "outputId": "b8db341a-5165-4e4f-f6cc-ffef6b15555f"
   },
   "outputs": [
    {
     "data": {
      "text/plain": [
       "str"
      ]
     },
     "execution_count": 7,
     "metadata": {},
     "output_type": "execute_result"
    }
   ],
   "source": [
    "#check type variable \n",
    "#ตรวจสอบชนิดของตัวแปร\n",
    "type(Something)"
   ]
  },
  {
   "cell_type": "code",
   "execution_count": 16,
   "metadata": {
    "id": "5473baf0",
    "outputId": "afa9deac-5315-4641-9780-a634362acdc9"
   },
   "outputs": [
    {
     "name": "stdout",
     "output_type": "stream",
     "text": [
      "อ่านทำไม\n",
      "อ่านทำไมอ่านทำไมอ่านทำไม\n"
     ]
    }
   ],
   "source": [
    "# พิมพ์ค่าจากตัวแปร \n",
    "print(Something)\n",
    "\n",
    "# พิมพ์ค่าในตัวแปรซ้ำ 3 ครั้ง\n",
    "print(Something*3)"
   ]
  },
  {
   "cell_type": "markdown",
   "metadata": {
    "id": "c1263ce0",
    "nbgrader": {
     "grade": false,
     "grade_id": "cell-9036710c45f8368a",
     "locked": true,
     "schema_version": 3,
     "solution": false,
     "task": false
    }
   },
   "source": [
    "# Operator ตัวดำเนินงาน"
   ]
  },
  {
   "cell_type": "markdown",
   "metadata": {
    "id": "c5d50fb3",
    "nbgrader": {
     "grade": false,
     "grade_id": "cell-e259ce795d7629d6",
     "locked": true,
     "schema_version": 3,
     "solution": false,
     "task": false
    }
   },
   "source": [
    "|Operator | Name | Example|\n",
    "|--- | --- | ---|\n",
    "|+ | Addition | `x + y`|\n",
    "|- | Subtraction | `x - y`|\n",
    "|* | Multiplication | `x * y`| \n",
    "|/ | Division | `x / y`|\n",
    "|% | Modulus | `x % y`| \n",
    "|** | Exponentiation | `x ** y`|\n",
    "|// | Floor division | `x // y`|\n",
    "|reference  | [w3schools](https://www.w3schools.com/python/python_operators.asp)|"
   ]
  },
  {
   "cell_type": "markdown",
   "metadata": {
    "id": "4c167eb4"
   },
   "source": [
    "Python Collections (Arrays)\n",
    "There are four collection data types in the Python programming language:\n",
    "\n",
    "* **List** is a collection which is ordered and changeable. Allows duplicate members.\n",
    "* **Tuple** is a collection which is ordered and unchangeable. Allows duplicate members.\n",
    "* **Set** is a collection which is unordered, unchangeable*, and unindexed. No duplicate members.\n",
    "* **Dictionary** is a collection which is ordered** and changeable. No duplicate members.\n"
   ]
  },
  {
   "cell_type": "markdown",
   "metadata": {
    "id": "4ec58da8",
    "nbgrader": {
     "grade": false,
     "grade_id": "cell-5cd80cdc7dd558f0",
     "locked": true,
     "schema_version": 3,
     "solution": false,
     "task": false
    }
   },
   "source": [
    "# List"
   ]
  },
  {
   "cell_type": "markdown",
   "metadata": {
    "id": "eeda1ec0",
    "nbgrader": {
     "grade": false,
     "grade_id": "cell-8eebbdb293d198df",
     "locked": true,
     "schema_version": 3,
     "solution": false,
     "task": false
    }
   },
   "source": [
    "### Access List Items \n",
    "\n",
    "\n"
   ]
  },
  {
   "cell_type": "code",
   "execution_count": 18,
   "metadata": {
    "id": "231bbeb0"
   },
   "outputs": [],
   "source": [
    "thislist = [\"apple\", \"banana\", \"cherry\", \"orange\", \"kiwi\", \"melon\", \"mango\"]"
   ]
  },
  {
   "cell_type": "code",
   "execution_count": 19,
   "metadata": {
    "colab": {
     "base_uri": "https://localhost:8080/"
    },
    "executionInfo": {
     "elapsed": 15,
     "status": "ok",
     "timestamp": 1659198642087,
     "user": {
      "displayName": "Teerapath Kaewsri",
      "userId": "00550085052828324667"
     },
     "user_tz": -420
    },
    "id": "u4MW4M9j8Jd2",
    "outputId": "ae71f441-d677-4996-997c-df0cb570813f"
   },
   "outputs": [
    {
     "name": "stdout",
     "output_type": "stream",
     "text": [
      "banana\n"
     ]
    }
   ],
   "source": [
    "# พิมพ์ค่าตาม index ที่เข้าถึง\n",
    "print(thislist[1])"
   ]
  },
  {
   "cell_type": "code",
   "execution_count": 20,
   "metadata": {
    "colab": {
     "base_uri": "https://localhost:8080/"
    },
    "executionInfo": {
     "elapsed": 13,
     "status": "ok",
     "timestamp": 1659198642088,
     "user": {
      "displayName": "Teerapath Kaewsri",
      "userId": "00550085052828324667"
     },
     "user_tz": -420
    },
    "id": "9ce24d56",
    "outputId": "9d18d605-1664-41ad-c5ca-7aca34f7f549"
   },
   "outputs": [
    {
     "name": "stdout",
     "output_type": "stream",
     "text": [
      "7\n"
     ]
    }
   ],
   "source": [
    "# พิมพ์ขนาดของ list \"thislist\"\n",
    "print(len(thislist))"
   ]
  },
  {
   "cell_type": "markdown",
   "metadata": {
    "id": "47a26f90"
   },
   "source": [
    "### Negative Indexing"
   ]
  },
  {
   "cell_type": "code",
   "execution_count": 23,
   "metadata": {
    "colab": {
     "base_uri": "https://localhost:8080/"
    },
    "executionInfo": {
     "elapsed": 11,
     "status": "ok",
     "timestamp": 1659198642088,
     "user": {
      "displayName": "Teerapath Kaewsri",
      "userId": "00550085052828324667"
     },
     "user_tz": -420
    },
    "id": "52a23310",
    "outputId": "16261025-43d0-4269-e092-1ca72d58b546"
   },
   "outputs": [
    {
     "name": "stdout",
     "output_type": "stream",
     "text": [
      "mango\n",
      "['mango', 'melon', 'kiwi', 'orange', 'cherry', 'banana', 'apple']\n"
     ]
    }
   ],
   "source": [
    "#พิมพ์ค่าย้อนหลังจาก Index สุดท้าย \n",
    "print(thislist[-1])\n",
    "# reverse ทั้ง list เลย\n",
    "print(thislist[::-1])"
   ]
  },
  {
   "cell_type": "markdown",
   "metadata": {
    "id": "d6f2b202"
   },
   "source": [
    "### Range of Indexes"
   ]
  },
  {
   "cell_type": "code",
   "execution_count": 26,
   "metadata": {
    "colab": {
     "base_uri": "https://localhost:8080/"
    },
    "executionInfo": {
     "elapsed": 7,
     "status": "ok",
     "timestamp": 1659198649540,
     "user": {
      "displayName": "Teerapath Kaewsri",
      "userId": "00550085052828324667"
     },
     "user_tz": -420
    },
    "id": "0f1f1994",
    "outputId": "61af2a33-d560-4754-c120-8fcda623e82a"
   },
   "outputs": [
    {
     "name": "stdout",
     "output_type": "stream",
     "text": [
      "['cherry', 'orange', 'kiwi']\n",
      "['cherry', 'orange', 'kiwi', 'melon', 'mango']\n",
      "['apple', 'banana', 'cherry', 'orange']\n"
     ]
    }
   ],
   "source": [
    "# พิมพ์ค่าเป็นช่วงตาม Index \n",
    "# [ตั้ง  : สิ้นสุด-1]\n",
    "print(thislist[2:5]) # ไปถึงจริงๆแค่ 4\n",
    "print(thislist[2:]) # ตั้งแต่ตำแหน่งที่ 2 เป็นต้นไป\n",
    "print(thislist[:4]) # ตั้งแต่ตำแหน่งที่ 0 ถึง ตำแหน่งที่ต้องการคือ 4-1 = 3"
   ]
  },
  {
   "cell_type": "markdown",
   "metadata": {
    "id": "227fdd4c"
   },
   "source": [
    "### Change Item Value"
   ]
  },
  {
   "cell_type": "code",
   "execution_count": 27,
   "metadata": {
    "colab": {
     "base_uri": "https://localhost:8080/"
    },
    "executionInfo": {
     "elapsed": 698,
     "status": "ok",
     "timestamp": 1659199580075,
     "user": {
      "displayName": "Teerapath Kaewsri",
      "userId": "00550085052828324667"
     },
     "user_tz": -420
    },
    "id": "bc6f4fe6",
    "outputId": "b58e1ec2-5ca2-4aef-8043-3588e9152b66"
   },
   "outputs": [
    {
     "name": "stdout",
     "output_type": "stream",
     "text": [
      "['apple', 'Apples', 'cherry', 'orange', 'kiwi', 'melon', 'mango']\n"
     ]
    }
   ],
   "source": [
    "# เปลี่ยนค่าใน thislist ใน index ที่เลือก\n",
    "\n",
    "thislist[1] = \"Apples\"\n",
    "print(thislist)"
   ]
  },
  {
   "cell_type": "markdown",
   "metadata": {
    "id": "94627215"
   },
   "source": [
    "### Append Items"
   ]
  },
  {
   "cell_type": "code",
   "execution_count": 28,
   "metadata": {
    "colab": {
     "base_uri": "https://localhost:8080/"
    },
    "executionInfo": {
     "elapsed": 653,
     "status": "ok",
     "timestamp": 1659200022629,
     "user": {
      "displayName": "Teerapath Kaewsri",
      "userId": "00550085052828324667"
     },
     "user_tz": -420
    },
    "id": "8310c3a0",
    "outputId": "c829ec17-941c-4abd-a897-a2e933c9c4e9"
   },
   "outputs": [
    {
     "data": {
      "text/plain": [
       "['apple', 'Apples', 'cherry', 'orange', 'kiwi', 'melon', 'mango', 'plums']"
      ]
     },
     "execution_count": 28,
     "metadata": {},
     "output_type": "execute_result"
    }
   ],
   "source": [
    "# เพิ่มค่าเข้าไปใน thislist ต่อจาก index สุดท้าย\n",
    "\n",
    "thislist.append(\"plums\")\n",
    "thislist"
   ]
  },
  {
   "cell_type": "markdown",
   "metadata": {
    "id": "5fd369fc"
   },
   "source": [
    "### Insert Items"
   ]
  },
  {
   "cell_type": "code",
   "execution_count": 30,
   "metadata": {
    "colab": {
     "base_uri": "https://localhost:8080/"
    },
    "executionInfo": {
     "elapsed": 569,
     "status": "ok",
     "timestamp": 1659199654969,
     "user": {
      "displayName": "Teerapath Kaewsri",
      "userId": "00550085052828324667"
     },
     "user_tz": -420
    },
    "id": "9129ddd6",
    "outputId": "65cfa773-a8aa-4519-e006-c9cb84d014a6"
   },
   "outputs": [
    {
     "name": "stdout",
     "output_type": "stream",
     "text": [
      "['apple', 'mandarins', 'mandarins', 'Apples', 'cherry', 'orange', 'kiwi', 'melon', 'mango', 'plums']\n"
     ]
    }
   ],
   "source": [
    "# แทรกค่าเข้าใน thislist ตาม index ที่กำหนด\n",
    "# แทรกและเลื่อนตัวถัดไป\n",
    "thislist.insert(1, \"mandarins\")\n",
    "print(thislist)"
   ]
  },
  {
   "cell_type": "markdown",
   "metadata": {
    "id": "780e7394"
   },
   "source": [
    "### Remove List Items"
   ]
  },
  {
   "cell_type": "code",
   "execution_count": 63,
   "metadata": {
    "colab": {
     "base_uri": "https://localhost:8080/"
    },
    "executionInfo": {
     "elapsed": 562,
     "status": "ok",
     "timestamp": 1659199749761,
     "user": {
      "displayName": "Teerapath Kaewsri",
      "userId": "00550085052828324667"
     },
     "user_tz": -420
    },
    "id": "151fdea5",
    "outputId": "02d919f4-f273-4f3c-a382-dd6623098c4c"
   },
   "outputs": [
    {
     "name": "stdout",
     "output_type": "stream",
     "text": [
      "before  ['apple', 'mandarins', 'mandarins', 'Apples', 'cherry', 'kiwi', 'melon', 'mango', 'plums', 'orange']\n",
      "After  ['apple', 'mandarins', 'mandarins', 'Apples', 'cherry', 'kiwi', 'melon', 'mango', 'plums']\n"
     ]
    }
   ],
   "source": [
    "# ค่าใน thislist ก่อนที่จะใช้ remove()\n",
    "print(\"before \",thislist)  \n",
    "\n",
    "thislist.remove(\"orange\")\n",
    "\n",
    "# ค่าใน thislist หลังที่จะใช้ remove()\n",
    "print(\"After \", thislist)\n"
   ]
  },
  {
   "cell_type": "markdown",
   "metadata": {
    "id": "9e444d66"
   },
   "source": [
    "# Tuples"
   ]
  },
  {
   "cell_type": "code",
   "execution_count": 35,
   "metadata": {
    "id": "3aeb26d5"
   },
   "outputs": [],
   "source": [
    "thistuple = (\"Yuji Itadori\", \"Toge Inumaki\", \"Yuta Okkotsu\")"
   ]
  },
  {
   "cell_type": "code",
   "execution_count": 36,
   "metadata": {
    "colab": {
     "base_uri": "https://localhost:8080/"
    },
    "executionInfo": {
     "elapsed": 11,
     "status": "ok",
     "timestamp": 1659202766291,
     "user": {
      "displayName": "Teerapath Kaewsri",
      "userId": "00550085052828324667"
     },
     "user_tz": -420
    },
    "id": "8f3ed803",
    "outputId": "ac9ef0b0-4602-452b-c0d7-a3fdfcd7098f"
   },
   "outputs": [
    {
     "name": "stdout",
     "output_type": "stream",
     "text": [
      "Toge Inumaki\n"
     ]
    }
   ],
   "source": [
    "# พิมพ์ค่าตาม index ที่เข้าถึง\n",
    "\n",
    "print(thistuple[1])"
   ]
  },
  {
   "cell_type": "code",
   "execution_count": 37,
   "metadata": {
    "colab": {
     "base_uri": "https://localhost:8080/"
    },
    "executionInfo": {
     "elapsed": 9,
     "status": "ok",
     "timestamp": 1659202766293,
     "user": {
      "displayName": "Teerapath Kaewsri",
      "userId": "00550085052828324667"
     },
     "user_tz": -420
    },
    "id": "6e12e74c",
    "outputId": "2710dcf6-4d90-4535-93e1-2f25ff7d0ed9"
   },
   "outputs": [
    {
     "name": "stdout",
     "output_type": "stream",
     "text": [
      "3\n"
     ]
    }
   ],
   "source": [
    "# พิมพ์ขนาดของ tuple \"thistuple\"\n",
    "\n",
    "print(len(thistuple))"
   ]
  },
  {
   "cell_type": "markdown",
   "metadata": {
    "id": "0bded54c"
   },
   "source": [
    "### Change Tuple Values"
   ]
  },
  {
   "cell_type": "code",
   "execution_count": 38,
   "metadata": {
    "colab": {
     "base_uri": "https://localhost:8080/"
    },
    "executionInfo": {
     "elapsed": 3,
     "status": "ok",
     "timestamp": 1659202766823,
     "user": {
      "displayName": "Teerapath Kaewsri",
      "userId": "00550085052828324667"
     },
     "user_tz": -420
    },
    "id": "71cf5aae",
    "outputId": "7d7b3784-db24-44a4-8756-bf2dbc0ab9cf"
   },
   "outputs": [
    {
     "name": "stdout",
     "output_type": "stream",
     "text": [
      "before  ('Yuji Itadori', 'Toge Inumaki', 'Yuta Okkotsu')\n",
      "After  ('Yuji Itadori', 'Satoru Gojo', 'Yuta Okkotsu')\n"
     ]
    }
   ],
   "source": [
    "# เลี่ยนค่าใน tuple ปกติแล้วจะไม่สามารถเปลี่ยนแปลงค่าได้\n",
    "x = thistuple\n",
    "\n",
    "# เปลี่ยน tuple >> list \n",
    "y = list(x)\n",
    "\n",
    "# เปลี่ยนค่าใน list ตาม index ที่เลือก\n",
    "y[1] = \"Satoru Gojo\"\n",
    "\n",
    "# เปลี่ยน list >> tuple ดังเดิม\n",
    "x = tuple(y)\n",
    "\n",
    "\n",
    "print(\"before \", thistuple)\n",
    "print(\"After \", x)"
   ]
  },
  {
   "cell_type": "markdown",
   "metadata": {
    "id": "80e1d72d"
   },
   "source": [
    "### Add Items"
   ]
  },
  {
   "cell_type": "code",
   "execution_count": 39,
   "metadata": {
    "colab": {
     "base_uri": "https://localhost:8080/"
    },
    "executionInfo": {
     "elapsed": 5,
     "status": "ok",
     "timestamp": 1659202769463,
     "user": {
      "displayName": "Teerapath Kaewsri",
      "userId": "00550085052828324667"
     },
     "user_tz": -420
    },
    "id": "db44d3f6",
    "outputId": "e65fa888-9fe7-47e4-9ebb-7b0ed231c1d3"
   },
   "outputs": [
    {
     "name": "stdout",
     "output_type": "stream",
     "text": [
      "before  ('Yuji Itadori', 'Toge Inumaki', 'Yuta Okkotsu')\n",
      "after  ('Yuji Itadori', 'Toge Inumaki', 'Yuta Okkotsu', 'Ryomen Sukuna')\n"
     ]
    }
   ],
   "source": [
    "# การเพิ่มค่าใน tuple แบบที่ 1 \n",
    "\n",
    "print(\"before \", thistuple)\n",
    "\n",
    "# เปลี่ยน tuple >> list \n",
    "y = list(thistuple)\n",
    "\n",
    "# ใช้ append เพิ่มค่าใน list ตัวสุดท้าย\n",
    "y.append(\"Ryomen Sukuna\")\n",
    "\n",
    "# เปลี่ยน list >> tuple\n",
    "thistuple = tuple(y)\n",
    "\n",
    "print(\"after \", thistuple)"
   ]
  },
  {
   "cell_type": "code",
   "execution_count": 40,
   "metadata": {
    "colab": {
     "base_uri": "https://localhost:8080/"
    },
    "executionInfo": {
     "elapsed": 545,
     "status": "ok",
     "timestamp": 1659202771987,
     "user": {
      "displayName": "Teerapath Kaewsri",
      "userId": "00550085052828324667"
     },
     "user_tz": -420
    },
    "id": "31f6065c",
    "outputId": "10300c54-e75c-488b-9fac-8e2664892694"
   },
   "outputs": [
    {
     "name": "stdout",
     "output_type": "stream",
     "text": [
      "before  ('Yuji Itadori', 'Toge Inumaki', 'Yuta Okkotsu', 'Ryomen Sukuna')\n",
      "after  ('Yuji Itadori', 'Toge Inumaki', 'Yuta Okkotsu', 'Ryomen Sukuna', 'Rika Orimoto')\n"
     ]
    }
   ],
   "source": [
    "# การเพิ่มค่าใน tuple แบบที่ 2\n",
    "print(\"before \", thistuple)\n",
    "\n",
    "# สร้าง tuple\n",
    "# y = (\"Rika Orimoto\",)\n",
    "\n",
    "# รวม tuple 2 เข้าด้วยกัน\n",
    "# มันคือ addLast\n",
    "thistuple += (\"Rika Orimoto\",) \n",
    "\n",
    "print(\"after \", thistuple)"
   ]
  },
  {
   "cell_type": "markdown",
   "metadata": {
    "id": "7cb4eeae"
   },
   "source": [
    "# Sets"
   ]
  },
  {
   "cell_type": "code",
   "execution_count": 41,
   "metadata": {
    "executionInfo": {
     "elapsed": 20,
     "status": "ok",
     "timestamp": 1659333919128,
     "user": {
      "displayName": "Teerapath Kaewsri",
      "userId": "00550085052828324667"
     },
     "user_tz": -420
    },
    "id": "960735ec"
   },
   "outputs": [],
   "source": [
    "# สร้าง set สำหรับเก็บข้อมูล # สัญลักษณ์ของ Set คือ ปีกกา\n",
    "thisset = {\"Monkey D. Luffy\", \"Roronoa Zoro\"}"
   ]
  },
  {
   "cell_type": "markdown",
   "metadata": {
    "id": "6e3a1feb"
   },
   "source": [
    "### Access Set Items\n"
   ]
  },
  {
   "cell_type": "code",
   "execution_count": 42,
   "metadata": {
    "colab": {
     "base_uri": "https://localhost:8080/"
    },
    "executionInfo": {
     "elapsed": 348,
     "status": "ok",
     "timestamp": 1659333954974,
     "user": {
      "displayName": "Teerapath Kaewsri",
      "userId": "00550085052828324667"
     },
     "user_tz": -420
    },
    "id": "2450104f",
    "outputId": "abb6008b-392d-410d-dd3a-ffc3c8c9a51f"
   },
   "outputs": [
    {
     "name": "stdout",
     "output_type": "stream",
     "text": [
      "Monkey D. Luffy Roronoa Zoro "
     ]
    }
   ],
   "source": [
    "# แสดงค่าใน set ออกมา\n",
    "for x in thisset:\n",
    "#  print(x)\n",
    "  print(x, end=\" \")"
   ]
  },
  {
   "cell_type": "markdown",
   "metadata": {
    "id": "A-GexufUzL0y"
   },
   "source": [
    "### Add Items"
   ]
  },
  {
   "cell_type": "code",
   "execution_count": 43,
   "metadata": {
    "id": "3a9bfa20",
    "outputId": "b7e86eaa-d226-449e-b9df-0893a9ba0df8"
   },
   "outputs": [
    {
     "name": "stdout",
     "output_type": "stream",
     "text": [
      "{'Monkey D. Luffy', 'Roronoa Zoro', 'Nami'}\n"
     ]
    }
   ],
   "source": [
    "# เพิ่มค่าเข้าไปใน set ด้วย add()\n",
    "# เพิ่มแบบต่อท้าย\n",
    "thisset.add(\"Nami\")\n",
    "\n",
    "print(thisset)"
   ]
  },
  {
   "cell_type": "code",
   "execution_count": 45,
   "metadata": {
    "id": "6b6ddc99",
    "outputId": "87666c7a-c9c9-476d-f2aa-b83af4bf429e"
   },
   "outputs": [
    {
     "name": "stdout",
     "output_type": "stream",
     "text": [
      "{'Monkey D. Luffy', 'Sanji', 'Chopper', 'Usopp', 'Roronoa Zoro', 'Nami'}\n"
     ]
    }
   ],
   "source": [
    "# การเพิ่มข้อมูลใน set ด้วย set อื่น โดยใช้ update()\n",
    "tropical = {\"Usopp\", \"Sanji\", \"Chopper\"}\n",
    "# เพิ่มข้อมูลไปทีเดียวโดยนำข้อมูล set ใหม่ เข้าไปใน set เก่า\n",
    "# การ update จะ update ไปทั้ง set เลย\n",
    "thisset.update(tropical)\n",
    "\n",
    "print(thisset)"
   ]
  },
  {
   "cell_type": "code",
   "execution_count": 46,
   "metadata": {
    "id": "79337f06",
    "outputId": "0a7d64ce-4afd-4e1b-f667-cc239469c1a6"
   },
   "outputs": [
    {
     "name": "stdout",
     "output_type": "stream",
     "text": [
      "{'Monkey D. Luffy', 'Sanji', 'Nico Robin', 'Chopper', 'Usopp', 'Roronoa Zoro', 'Nami', 'Franky'}\n"
     ]
    }
   ],
   "source": [
    "# การเพิ่มข้อมูลใน set ด้วย lsit โดยใช้ update()\n",
    "mylist = [\"Nico Robin\", \"Franky\"]\n",
    "\n",
    "thisset.update(mylist)\n",
    "\n",
    "print(thisset)"
   ]
  },
  {
   "cell_type": "markdown",
   "metadata": {
    "id": "JEtXQHM7zPnb"
   },
   "source": [
    "###Remove Item"
   ]
  },
  {
   "cell_type": "code",
   "execution_count": 48,
   "metadata": {
    "id": "9a341104",
    "outputId": "edaeef89-2546-4c37-86ef-fb3917b82d38"
   },
   "outputs": [
    {
     "name": "stdout",
     "output_type": "stream",
     "text": [
      "{'Monkey D. Luffy', 'Sanji', 'Nico Robin', 'Chopper', 'Roronoa Zoro', 'Nami', 'Franky'}\n"
     ]
    }
   ],
   "source": [
    "# การลบข้อมูลใน set  ด้วย remove()\n",
    "# แต่ค่านั้นต้องมีใน set ด้วย\n",
    "thisset.remove(\"Usopp\")\n",
    "\n",
    "print(thisset)"
   ]
  },
  {
   "cell_type": "code",
   "execution_count": 49,
   "metadata": {
    "id": "2736284a",
    "outputId": "9e480fd1-98ec-4b1d-c162-924c9c8b1342"
   },
   "outputs": [
    {
     "name": "stdout",
     "output_type": "stream",
     "text": [
      "{'Monkey D. Luffy', 'Sanji', 'Nico Robin', 'Chopper', 'Roronoa Zoro', 'Nami', 'Franky'}\n"
     ]
    }
   ],
   "source": [
    "# กำารลบข้อมูลใน set ด้วย disscard()\n",
    "\n",
    "thisset.discard(\"Jimbei\")\n",
    "\n",
    "print(thisset)"
   ]
  },
  {
   "cell_type": "markdown",
   "metadata": {
    "id": "d9e72918"
   },
   "source": [
    "# Dictionaries"
   ]
  },
  {
   "cell_type": "code",
   "execution_count": 50,
   "metadata": {
    "executionInfo": {
     "elapsed": 330,
     "status": "ok",
     "timestamp": 1659336736387,
     "user": {
      "displayName": "Teerapath Kaewsri",
      "userId": "00550085052828324667"
     },
     "user_tz": -420
    },
    "id": "dbc93b27"
   },
   "outputs": [],
   "source": [
    "# ลักษณะข้อมูลที่มีทั้ง Key และ Value โดยที่ Key : Value\n",
    "thisdict = {\n",
    "  \"name\": \"Loid\",\n",
    "  \"family name\": \"Forger\",\n",
    "  \"year\": 1964\n",
    "}"
   ]
  },
  {
   "cell_type": "code",
   "execution_count": 51,
   "metadata": {
    "colab": {
     "base_uri": "https://localhost:8080/"
    },
    "executionInfo": {
     "elapsed": 552,
     "status": "ok",
     "timestamp": 1659336737277,
     "user": {
      "displayName": "Teerapath Kaewsri",
      "userId": "00550085052828324667"
     },
     "user_tz": -420
    },
    "id": "753b20db",
    "outputId": "a361a5e9-6606-4974-aba8-5c0cdb02e606"
   },
   "outputs": [
    {
     "name": "stdout",
     "output_type": "stream",
     "text": [
      "{'name': 'Loid', 'family name': 'Forger', 'year': 1964}\n"
     ]
    }
   ],
   "source": [
    "print(thisdict)"
   ]
  },
  {
   "cell_type": "markdown",
   "metadata": {
    "id": "iZTW-_uJL8lO"
   },
   "source": [
    "###Access Set Items"
   ]
  },
  {
   "cell_type": "code",
   "execution_count": 52,
   "metadata": {
    "colab": {
     "base_uri": "https://localhost:8080/"
    },
    "executionInfo": {
     "elapsed": 3,
     "status": "ok",
     "timestamp": 1659336738197,
     "user": {
      "displayName": "Teerapath Kaewsri",
      "userId": "00550085052828324667"
     },
     "user_tz": -420
    },
    "id": "b133b440",
    "outputId": "74794e1a-c7f1-4437-beb2-5d02bc5aed01"
   },
   "outputs": [
    {
     "name": "stdout",
     "output_type": "stream",
     "text": [
      "Loid\n"
     ]
    }
   ],
   "source": [
    "# เข้าถึงข้อมูลใน dict โดยใช้ key\n",
    "x = thisdict[\"name\"]\n",
    "print(x)"
   ]
  },
  {
   "cell_type": "code",
   "execution_count": 53,
   "metadata": {
    "colab": {
     "base_uri": "https://localhost:8080/"
    },
    "executionInfo": {
     "elapsed": 8,
     "status": "ok",
     "timestamp": 1659336738544,
     "user": {
      "displayName": "Teerapath Kaewsri",
      "userId": "00550085052828324667"
     },
     "user_tz": -420
    },
    "id": "b58c6bd7",
    "outputId": "9c674552-21d6-499c-ce6a-ee7fcbd03aaf"
   },
   "outputs": [
    {
     "name": "stdout",
     "output_type": "stream",
     "text": [
      "Loid\n"
     ]
    }
   ],
   "source": [
    "# เข้าถึงข้อมูลใน dict โดยใช้ key ด้วย get()\n",
    "y = thisdict.get(\"name\")\n",
    "print(y)"
   ]
  },
  {
   "cell_type": "markdown",
   "metadata": {
    "id": "134807a8"
   },
   "source": [
    "### Change Values"
   ]
  },
  {
   "cell_type": "code",
   "execution_count": 54,
   "metadata": {
    "colab": {
     "base_uri": "https://localhost:8080/"
    },
    "executionInfo": {
     "elapsed": 4,
     "status": "ok",
     "timestamp": 1659336739447,
     "user": {
      "displayName": "Teerapath Kaewsri",
      "userId": "00550085052828324667"
     },
     "user_tz": -420
    },
    "id": "cb2d5f75",
    "outputId": "4c53b254-1c8b-4fe3-cd4a-1311f5ffc62a"
   },
   "outputs": [
    {
     "name": "stdout",
     "output_type": "stream",
     "text": [
      "{'name': 'Anya', 'family name': 'Forger', 'year': 1964}\n"
     ]
    }
   ],
   "source": [
    "# เปลี่ยนค่าใน dict โดยใช้ key\n",
    "thisdict[\"name\"] = \"Anya\"\n",
    "print(thisdict)"
   ]
  },
  {
   "cell_type": "code",
   "execution_count": 55,
   "metadata": {
    "colab": {
     "base_uri": "https://localhost:8080/"
    },
    "executionInfo": {
     "elapsed": 364,
     "status": "ok",
     "timestamp": 1659338120086,
     "user": {
      "displayName": "Teerapath Kaewsri",
      "userId": "00550085052828324667"
     },
     "user_tz": -420
    },
    "id": "c508865d",
    "outputId": "056cb171-75e6-46c2-be08-be6998bcbc3f"
   },
   "outputs": [
    {
     "data": {
      "text/plain": [
       "{'name': 'Yor', 'family name': 'Forger', 'year': 1964}"
      ]
     },
     "execution_count": 55,
     "metadata": {},
     "output_type": "execute_result"
    }
   ],
   "source": [
    "# เปลี่ยนค่าใน dict  โดยใช้ key ด้วย update()\n",
    "thisdict.update({\"name\": \"Yor\"})\n",
    "thisdict"
   ]
  },
  {
   "cell_type": "markdown",
   "metadata": {
    "id": "2c69659a"
   },
   "source": [
    "### Adding Items"
   ]
  },
  {
   "cell_type": "code",
   "execution_count": 56,
   "metadata": {
    "colab": {
     "base_uri": "https://localhost:8080/"
    },
    "executionInfo": {
     "elapsed": 4,
     "status": "ok",
     "timestamp": 1659338121013,
     "user": {
      "displayName": "Teerapath Kaewsri",
      "userId": "00550085052828324667"
     },
     "user_tz": -420
    },
    "id": "e06e7309",
    "outputId": "3f630578-4339-418d-a15a-f286648b333f"
   },
   "outputs": [
    {
     "name": "stdout",
     "output_type": "stream",
     "text": [
      "{'name': 'Yor', 'family name': 'Forger', 'year': 1964, 'color': 'blue'}\n"
     ]
    }
   ],
   "source": [
    "# เพิ่มข้อมูลใน dict ด้วยการใช้ key และ value \n",
    "# สร้าง Key ใหม่พร้อมกับ Value ได้เลย\n",
    "thisdict[\"color\"] = \"blue\"\n",
    "print(thisdict)"
   ]
  },
  {
   "cell_type": "code",
   "execution_count": 57,
   "metadata": {
    "colab": {
     "base_uri": "https://localhost:8080/"
    },
    "executionInfo": {
     "elapsed": 2,
     "status": "ok",
     "timestamp": 1659338121354,
     "user": {
      "displayName": "Teerapath Kaewsri",
      "userId": "00550085052828324667"
     },
     "user_tz": -420
    },
    "id": "26216602",
    "outputId": "d5772139-db86-44be-de5e-b38b87e3bcd0"
   },
   "outputs": [
    {
     "data": {
      "text/plain": [
       "{'name': 'Yor', 'family name': 'Forger', 'year': 1964, 'color': 'red'}"
      ]
     },
     "execution_count": 57,
     "metadata": {},
     "output_type": "execute_result"
    }
   ],
   "source": [
    "# เพิ่มข้อมูลใน dict ด้วย update()\n",
    "thisdict.update({\"color\": \"red\"})\n",
    "thisdict"
   ]
  },
  {
   "cell_type": "markdown",
   "metadata": {
    "id": "abffff62"
   },
   "source": [
    "### Removing Items"
   ]
  },
  {
   "cell_type": "code",
   "execution_count": 58,
   "metadata": {
    "colab": {
     "base_uri": "https://localhost:8080/"
    },
    "executionInfo": {
     "elapsed": 388,
     "status": "ok",
     "timestamp": 1659338133220,
     "user": {
      "displayName": "Teerapath Kaewsri",
      "userId": "00550085052828324667"
     },
     "user_tz": -420
    },
    "id": "d00bd9c8",
    "outputId": "e33fde90-5053-4fc9-bc2c-1b8a473fe78d"
   },
   "outputs": [
    {
     "name": "stdout",
     "output_type": "stream",
     "text": [
      "{'family name': 'Forger', 'year': 1964, 'color': 'red'}\n"
     ]
    }
   ],
   "source": [
    "# ลบข้อมูลใน dict ด้วย pop()\n",
    "# ใช้ remove กับ discard ไม่ได้\n",
    "thisdict.pop(\"name\")\n",
    "print(thisdict)"
   ]
  },
  {
   "cell_type": "code",
   "execution_count": 59,
   "metadata": {
    "colab": {
     "base_uri": "https://localhost:8080/"
    },
    "executionInfo": {
     "elapsed": 337,
     "status": "ok",
     "timestamp": 1659338136419,
     "user": {
      "displayName": "Teerapath Kaewsri",
      "userId": "00550085052828324667"
     },
     "user_tz": -420
    },
    "id": "ee9e3949",
    "outputId": "cfbc9c90-a730-4cff-f44b-fb50b62e11be"
   },
   "outputs": [
    {
     "name": "stdout",
     "output_type": "stream",
     "text": [
      "{'family name': 'Forger', 'year': 1964}\n"
     ]
    }
   ],
   "source": [
    "# ลบข้อมูลใน dict ด้วย del\n",
    "del thisdict[\"color\"]\n",
    "print(thisdict)"
   ]
  },
  {
   "cell_type": "code",
   "execution_count": null,
   "metadata": {},
   "outputs": [],
   "source": []
  }
 ],
 "metadata": {
  "celltoolbar": "Create Assignment",
  "colab": {
   "name": "01-Lab-04-Aug-2022.ipynb",
   "provenance": []
  },
  "kernelspec": {
   "display_name": "Python 3",
   "language": "python",
   "name": "python3"
  },
  "language_info": {
   "codemirror_mode": {
    "name": "ipython",
    "version": 3
   },
   "file_extension": ".py",
   "mimetype": "text/x-python",
   "name": "python",
   "nbconvert_exporter": "python",
   "pygments_lexer": "ipython3",
   "version": "3.6.5"
  }
 },
 "nbformat": 4,
 "nbformat_minor": 5
}
